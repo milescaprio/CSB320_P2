{
 "cells": [
  {
   "cell_type": "markdown",
   "id": "ed0a30cc",
   "metadata": {},
   "source": [
    "# Analysis of Fake News in dataset fake_news.csv\n",
    "\n",
    "Data from: https://www.kaggle.com/datasets/emineyetm/fake-news-detection-datasets\n",
    "\n",
    "Features:\n",
    "- `subject`: News Subject\n",
    "- `Date`\n",
    "- `Title`\n",
    "- `Text`\n",
    "\n",
    "Labels:\n",
    "- `Label`: 1 if fake, 0 if real\n",
    "\n",
    "Formatted using Black"
   ]
  },
  {
   "cell_type": "markdown",
   "id": "5d928db3",
   "metadata": {},
   "source": [
    "## Setup & Loading"
   ]
  },
  {
   "cell_type": "code",
   "execution_count": null,
   "id": "01566c33",
   "metadata": {},
   "outputs": [],
   "source": [
    "%load_ext autoreload\n",
    "%autoreload 2"
   ]
  },
  {
   "cell_type": "code",
   "execution_count": 5,
   "id": "dc15d310",
   "metadata": {},
   "outputs": [],
   "source": [
    "from lib import (\n",
    "    highest_freq_words,\n",
    "    grid_search_report,\n",
    "    train_test_split,\n",
    "    sns,\n",
    "    grs,\n",
    "    GridSearchCV,\n",
    ")\n",
    "from NLP_algorithms import (\n",
    "    pd,\n",
    "    get_textvec_pipeline,\n",
    "    get_textvect_grid_search_params,\n",
    ")\n",
    "from IPython.display import display  # (For linter)\n",
    "from joblib import parallel_backend"
   ]
  },
  {
   "cell_type": "code",
   "execution_count": 3,
   "id": "1b978bc2",
   "metadata": {},
   "outputs": [
    {
     "data": {
      "application/vnd.microsoft.datawrangler.viewer.v0+json": {
       "columns": [
        {
         "name": "index",
         "rawType": "int64",
         "type": "integer"
        },
        {
         "name": "title",
         "rawType": "object",
         "type": "string"
        },
        {
         "name": "text",
         "rawType": "object",
         "type": "string"
        },
        {
         "name": "subject",
         "rawType": "object",
         "type": "string"
        },
        {
         "name": "date",
         "rawType": "object",
         "type": "string"
        },
        {
         "name": "label",
         "rawType": "int64",
         "type": "integer"
        }
       ],
       "ref": "e229c45f-9dc4-4f9d-86bb-e11b13f3fef9",
       "rows": [
        [
         "0",
         "WOW! LOU DOBBS BLASTS #FakePresident OBAMA: “Spent 8 Years Undermining Core American Values”… Now Doing His Best To “Undercut President Trump” By Pretending To Still Be President [VIDEO]",
         "Lou Dobbs went off on #FakePresident Barack Obama during his  Dobb s Commentary  segment. Fox News host Lou Dobbs is furious that the FORMER President, Barack Obama, aka Barry Soetoro has been either following President Trump around the world to meet with world leaders or meeting with world leaders just prior to scheduled meetings with President Trump.Dobbs suggested to his viewers that Obama s meetings with various world leaders appear to all be organized. Why is the media ignoring Barack Obama s bizarre meetings with South Korea s new President Moon Jae-in, Britian s Prime Minister Theresa May, Canada s Prime Minister Justin Trudeau and German Chancellor Angela Merkel? Would they have ignored former President George W. Bush if he embarked on a world tour to undercut or undermine Barack Obama only months after he was elected as our President?Perhaps someone needs to tell the FORMER President that in America, there s only ONE President at a time. Barry had his chance, and he failed miserably. It s time for him to step aside and let Donald Trump clean up the mess. It s hard enough to have to follow in the footsteps of America s worst President, the least Barry can do now for the sake of our nation, is to get out of his way Subversive Obama- Former President now doing his worst to undercut @POTUS and the will of the American people. #MAGA #TrumpTrain #Dobbs pic.twitter.com/GeQZMQLKDT  Lou Dobbs (@LouDobbs) July 6, 2017",
         "politics",
         "2017-07-11",
         "0"
        ],
        [
         "1",
         "President WATCH: FUNNIEST Done ‘Couch Commander’ Obama’s Is Comedy Video The Thing Ever He’s",
         "For his final White House Correspondent s Dinner, the White House release a hilarious comedy video, starring President Obama, Vice President Biden, and a cast of famous faces. The plot of the video showed the President going on a quest to figure out what, exactly, he plans to do with his free time after leaving the White House.Watch @POTUS in \"Couch Commander.\" https://t.co/p1xFpHrSmP  The White House (@WhiteHouse) May 1, 2016After dropping an expletive on NBC s Chuck Todd, who calls him the  Couch Commander,  Obama meets with Vice President Biden, who advises him to start driving again, or to get involved in sports.That s followed up by another joke at the expense of birther conspiracy theorists.The President then plays around with Snapchat, which creates a media controversy.Seeking advice for what to do in retirement, President Obama turns to his former nemesis, former Speaker of the House John Boehner, who watches an emotional film and out come the waterworks.Boehner then dispenses some advice to Obama to just be himself, and the President expresses relief at being able to wear  mom jeans  again.The video showcases a lot of what has made Obama so endearing to his supporters, and what drives his detractors up the wall. He is a natural performer, at home making fun of himself and the weird institutions and traditions of Washington, D.C.The Couch Commander video is quite similar to President Bill Clinton s offering at his last Correspondent s Dinner in 2000. That showed President Clinton lounging around the White House looking for something to do as the election ran past him, even Hillary Clinton had abandoned him as she went to New York for her senatorial run. Eventually Clinton ended up with the kid from the then-ubiquitous Dell commercials showing him how to use eBay and send email (it was the turn of the century and still so very new). Sixteen years later that video is still funny:Featured image via Twitter",
         "News",
         "2016-04-30",
         "0"
        ],
        [
         "2",
         "RELIGION OF PROGRESSIVISM: Meet Obama’s NEW Transgender Leader For FAITH-BASED Neighborhood Partnerships",
         "The religion of Progressivism is working overtime to erase and replace Christianity in the lives of Americans. God is nothing more than a nuisance. He only gets in the way of a more  accepting  religion the Left has been cultivating for decades, where the rules are morals are determined by a select group of people in our government and in specially appointed positions within our government. You know kinda like Communism The Obama administration has appointed a transgender individual to the President s Advisory Council on Faith-based Neighborhood Partnerships, selecting Barbara Satin for a post along with two representatives of minority faiths.Satin, who was born a man but identifies as a woman, is an Air Force veteran, a member of the United Church of Christ and currently works with the National Gay and Lesbian Task Force, according to CBN News. Given the current political climate, I believe it s important that a voice of faith representing the transgender and gender non-conforming community   as well as a person of my years, nearly 82   be present and heard in these vital conversations,  Satin said in a statement published through the United Church of Christ.   The Blazeh/t Weasel Zippers",
         "politics",
         "2016-05-17",
         "0"
        ],
        [
         "3",
         " Breitbart Caught Praising Melania For Exact Thing They Once Viciously Smeared Michelle Obama Over",
         "In a stunning example of just how morally bankrupt right-wing media has become in the Age of Trump, Breitbart   the conservative website often described as Trump s de facto propaganda wing   wrote a lavish piece praising Melania Trump for her  high fashion  outfits while accompanying her husband on his first overseas trip.Who cares, right? Why would anyone have a problem with what the first lady is wearing on a trip?Well, Breitbart, the very same website, seems to   albeit only when it s the African-American wife of America s first African-American president. Here s the sneering way they covered Michelle Obama s decision to wear a $3,200 dress on the former president s visit with the pope.Politico reports that First Lady Michelle Obama, looking lovely and classy, greeted Pope Francis Tuesday while wearing a $2,290 dress. While the Obamas are not Catholics, this is still a finger-in-the-eye to a White House guest who frequently speaks out   to wild Democrat applause   about the evils of excessive capitalism.And adding to the absurd critique:According to WorldVision, you can feed a child for just $35  a month. Michelle Obama s dress would feed over 80 children for that month. This choice obviously is contrary to the values of Pope Francis. But the Obamas  religious values come from elsewhere, a divisive and disturbing place, not a charitable or unifying one.Almost beyond parody.Flash forward to this weekend. Melania was treated to a photo spread, with Brietbart praising her outfits, including an expensive custom-made creation from fashion designer Dolce & Gabbana.In a visit to meet Pope Francis, Melania worked with Dolce & Gabbana, again, on a stunning custom-made, black coat-dress that showed off a beautiful round collar, framing the First Lady s face. The look was paired with a black lace Mantilla and black Manolo Blahnik stilettos, sticking to the Vatican dress code.The next day, Melania would don a dress that cost $51,000. Conservatives didn t bat an eye.Let s crunch those numbers through Breitbart s bullshit calculator:According to WorldVision, you can feed a child for just $35 a month. Melania Trump s dress would feed over 1400 children for a month. But then the Trump s religious values come from elsewhere, a divisive and disturbing place, not a charitable one. (This comparison, however tongue-in-cheek, is actually unfair in more ways than one, the Obamas actually do have a history of charitable giving. Trump is famous for not donating to charity. A truly  divisive and disturbing  worldview, if there ever was one.)As the above passages exemplify, Breitbart loved to apply ridiculous, nonsense standards to the Obamas that they would never dream of holding the Trump family up to. The website once run by anti-Semite Steve Bannon and which has a section devoted to  black crime  has some pretty obvious, bigoted reasons for hating the Obamas. It s egregious but not particularly surprising then that they would find the white first lady s opulence charming while finding the black first lady s show of class distressing.Featured image via Franco Origlia/Getty Images / h/t Mikel Jollett",
         "News",
         "2017-05-21",
         "0"
        ],
        [
         "4",
         "HOST SICKENING! MOCKS Jeff Grandchildren Senator MTV Asian Sessions’",
         " ",
         "politics",
         "2017-01-10",
         "0"
        ]
       ],
       "shape": {
        "columns": 5,
        "rows": 5
       }
      },
      "text/html": [
       "<div>\n",
       "<style scoped>\n",
       "    .dataframe tbody tr th:only-of-type {\n",
       "        vertical-align: middle;\n",
       "    }\n",
       "\n",
       "    .dataframe tbody tr th {\n",
       "        vertical-align: top;\n",
       "    }\n",
       "\n",
       "    .dataframe thead th {\n",
       "        text-align: right;\n",
       "    }\n",
       "</style>\n",
       "<table border=\"1\" class=\"dataframe\">\n",
       "  <thead>\n",
       "    <tr style=\"text-align: right;\">\n",
       "      <th></th>\n",
       "      <th>title</th>\n",
       "      <th>text</th>\n",
       "      <th>subject</th>\n",
       "      <th>date</th>\n",
       "      <th>label</th>\n",
       "    </tr>\n",
       "  </thead>\n",
       "  <tbody>\n",
       "    <tr>\n",
       "      <th>0</th>\n",
       "      <td>WOW! LOU DOBBS BLASTS #FakePresident OBAMA: “S...</td>\n",
       "      <td>Lou Dobbs went off on #FakePresident Barack Ob...</td>\n",
       "      <td>politics</td>\n",
       "      <td>2017-07-11</td>\n",
       "      <td>0</td>\n",
       "    </tr>\n",
       "    <tr>\n",
       "      <th>1</th>\n",
       "      <td>President WATCH: FUNNIEST Done ‘Couch Commande...</td>\n",
       "      <td>For his final White House Correspondent s Dinn...</td>\n",
       "      <td>News</td>\n",
       "      <td>2016-04-30</td>\n",
       "      <td>0</td>\n",
       "    </tr>\n",
       "    <tr>\n",
       "      <th>2</th>\n",
       "      <td>RELIGION OF PROGRESSIVISM: Meet Obama’s NEW Tr...</td>\n",
       "      <td>The religion of Progressivism is working overt...</td>\n",
       "      <td>politics</td>\n",
       "      <td>2016-05-17</td>\n",
       "      <td>0</td>\n",
       "    </tr>\n",
       "    <tr>\n",
       "      <th>3</th>\n",
       "      <td>Breitbart Caught Praising Melania For Exact T...</td>\n",
       "      <td>In a stunning example of just how morally bank...</td>\n",
       "      <td>News</td>\n",
       "      <td>2017-05-21</td>\n",
       "      <td>0</td>\n",
       "    </tr>\n",
       "    <tr>\n",
       "      <th>4</th>\n",
       "      <td>HOST SICKENING! MOCKS Jeff Grandchildren Senat...</td>\n",
       "      <td></td>\n",
       "      <td>politics</td>\n",
       "      <td>2017-01-10</td>\n",
       "      <td>0</td>\n",
       "    </tr>\n",
       "  </tbody>\n",
       "</table>\n",
       "</div>"
      ],
      "text/plain": [
       "                                               title  \\\n",
       "0  WOW! LOU DOBBS BLASTS #FakePresident OBAMA: “S...   \n",
       "1  President WATCH: FUNNIEST Done ‘Couch Commande...   \n",
       "2  RELIGION OF PROGRESSIVISM: Meet Obama’s NEW Tr...   \n",
       "3   Breitbart Caught Praising Melania For Exact T...   \n",
       "4  HOST SICKENING! MOCKS Jeff Grandchildren Senat...   \n",
       "\n",
       "                                                text   subject        date  \\\n",
       "0  Lou Dobbs went off on #FakePresident Barack Ob...  politics  2017-07-11   \n",
       "1  For his final White House Correspondent s Dinn...      News  2016-04-30   \n",
       "2  The religion of Progressivism is working overt...  politics  2016-05-17   \n",
       "3  In a stunning example of just how morally bank...      News  2017-05-21   \n",
       "4                                                     politics  2017-01-10   \n",
       "\n",
       "   label  \n",
       "0      0  \n",
       "1      0  \n",
       "2      0  \n",
       "3      0  \n",
       "4      0  "
      ]
     },
     "metadata": {},
     "output_type": "display_data"
    },
    {
     "data": {
      "application/vnd.microsoft.datawrangler.viewer.v0+json": {
       "columns": [
        {
         "name": "index",
         "rawType": "object",
         "type": "string"
        },
        {
         "name": "label",
         "rawType": "float64",
         "type": "float"
        }
       ],
       "ref": "7f01e083-b281-47b8-a8b4-6451c0967d51",
       "rows": [
        [
         "count",
         "2500.0"
        ],
        [
         "mean",
         "0.4772"
        ],
        [
         "std",
         "0.4995798154417357"
        ],
        [
         "min",
         "0.0"
        ],
        [
         "25%",
         "0.0"
        ],
        [
         "50%",
         "0.0"
        ],
        [
         "75%",
         "1.0"
        ],
        [
         "max",
         "1.0"
        ]
       ],
       "shape": {
        "columns": 1,
        "rows": 8
       }
      },
      "text/html": [
       "<div>\n",
       "<style scoped>\n",
       "    .dataframe tbody tr th:only-of-type {\n",
       "        vertical-align: middle;\n",
       "    }\n",
       "\n",
       "    .dataframe tbody tr th {\n",
       "        vertical-align: top;\n",
       "    }\n",
       "\n",
       "    .dataframe thead th {\n",
       "        text-align: right;\n",
       "    }\n",
       "</style>\n",
       "<table border=\"1\" class=\"dataframe\">\n",
       "  <thead>\n",
       "    <tr style=\"text-align: right;\">\n",
       "      <th></th>\n",
       "      <th>label</th>\n",
       "    </tr>\n",
       "  </thead>\n",
       "  <tbody>\n",
       "    <tr>\n",
       "      <th>count</th>\n",
       "      <td>2500.00000</td>\n",
       "    </tr>\n",
       "    <tr>\n",
       "      <th>mean</th>\n",
       "      <td>0.47720</td>\n",
       "    </tr>\n",
       "    <tr>\n",
       "      <th>std</th>\n",
       "      <td>0.49958</td>\n",
       "    </tr>\n",
       "    <tr>\n",
       "      <th>min</th>\n",
       "      <td>0.00000</td>\n",
       "    </tr>\n",
       "    <tr>\n",
       "      <th>25%</th>\n",
       "      <td>0.00000</td>\n",
       "    </tr>\n",
       "    <tr>\n",
       "      <th>50%</th>\n",
       "      <td>0.00000</td>\n",
       "    </tr>\n",
       "    <tr>\n",
       "      <th>75%</th>\n",
       "      <td>1.00000</td>\n",
       "    </tr>\n",
       "    <tr>\n",
       "      <th>max</th>\n",
       "      <td>1.00000</td>\n",
       "    </tr>\n",
       "  </tbody>\n",
       "</table>\n",
       "</div>"
      ],
      "text/plain": [
       "            label\n",
       "count  2500.00000\n",
       "mean      0.47720\n",
       "std       0.49958\n",
       "min       0.00000\n",
       "25%       0.00000\n",
       "50%       0.00000\n",
       "75%       1.00000\n",
       "max       1.00000"
      ]
     },
     "metadata": {},
     "output_type": "display_data"
    }
   ],
   "source": [
    "df = pd.read_csv(\"data/fake_news.csv\")\n",
    "display(df.head())\n",
    "display(df.describe())"
   ]
  },
  {
   "cell_type": "markdown",
   "id": "49de39d6",
   "metadata": {},
   "source": [
    "## Data Selection & Holdout"
   ]
  },
  {
   "cell_type": "code",
   "execution_count": null,
   "id": "4902fbc0",
   "metadata": {},
   "outputs": [],
   "source": [
    "X = df[[\"text\", \"subject\"]]\n",
    "y = df[\"label\"]\n",
    "\n",
    "X_train, X_test, y_train, y_test = train_test_split(\n",
    "    X, y, test_size=0.2, random_state=grs\n",
    ")"
   ]
  },
  {
   "cell_type": "markdown",
   "id": "7d74807b",
   "metadata": {},
   "source": [
    "# Exploratory Data Analysis"
   ]
  },
  {
   "cell_type": "code",
   "execution_count": 21,
   "id": "4c378dea",
   "metadata": {},
   "outputs": [
    {
     "data": {
      "text/plain": [
       "<Axes: xlabel='label', ylabel='count'>"
      ]
     },
     "execution_count": 21,
     "metadata": {},
     "output_type": "execute_result"
    },
    {
     "data": {
      "image/png": "[encoded data removed]",
      "text/plain": [
       "<Figure size 640x480 with 1 Axes>"
      ]
     },
     "metadata": {},
     "output_type": "display_data"
    }
   ],
   "source": [
    "sns.countplot(data=df, x=\"label\")"
   ]
  },
  {
   "cell_type": "code",
   "execution_count": 24,
   "id": "eb5c878a",
   "metadata": {},
   "outputs": [
    {
     "data": {
      "image/png": "[encoded data removed]",
      "text/plain": [
       "<Figure size 640x480 with 1 Axes>"
      ]
     },
     "metadata": {},
     "output_type": "display_data"
    }
   ],
   "source": [
    "highest_freq_words(df, 20, \"text\")"
   ]
  },
  {
   "cell_type": "markdown",
   "id": "91c07a3a",
   "metadata": {},
   "source": [
    "# Model 1: Simple Bag of Words Sentiment Analysis"
   ]
  },
  {
   "cell_type": "code",
   "execution_count": null,
   "id": "f6ddf16a",
   "metadata": {},
   "outputs": [],
   "source": [
    "estimator_sbw = get_textvec_pipeline(tf_idf=False, pca=False)\n",
    "grid_search_sbw = GridSearchCV(\n",
    "    estimator_sbw,\n",
    "    get_textvect_grid_search_params(tf_idf=False, pca=False),\n",
    "    scoring=\"f1\",\n",
    "    cv=5,\n",
    "    n_jobs=-1,\n",
    ")"
   ]
  },
  {
   "cell_type": "code",
   "execution_count": null,
   "id": "561f2eaf",
   "metadata": {},
   "outputs": [
    {
     "name": "stdout",
     "output_type": "stream",
     "text": [
      "[DEBUG] type(X): <class 'pandas.core.frame.DataFrame'>, shape: (1600, 1)\n",
      "[DEBUG] type(X): <class 'pandas.core.frame.DataFrame'>, shape: (1600, 1)\n",
      "[DEBUG] type(X): <class 'pandas.core.frame.DataFrame'>, shape: (1600, 1)\n",
      "[DEBUG] type(X): <class 'pandas.core.frame.DataFrame'>, shape: (1600, 1)\n",
      "[DEBUG] type(X): <class 'pandas.core.frame.DataFrame'>, shape: (1600, 1)\n",
      "[DEBUG] type(X): <class 'pandas.core.frame.DataFrame'>, shape: (1600, 1)\n",
      "[DEBUG] type(X): <class 'pandas.core.frame.DataFrame'>, shape: (1600, 1)\n",
      "[DEBUG] type(X): <class 'pandas.core.frame.DataFrame'>, shape: (1600, 1)\n",
      "[DEBUG] type(X): <class 'pandas.core.frame.DataFrame'>, shape: (400, 1)\n"
     ]
    },
    {
     "name": "stderr",
     "output_type": "stream",
     "text": [
      "/opt/anaconda3/envs/CSB320/lib/python3.9/site-packages/sklearn/pipeline.py:62: FutureWarning: This Pipeline instance is not fitted yet. Call 'fit' with appropriate arguments before using other methods such as transform, predict, etc. This will raise an error in 1.8 instead of the current warning.\n",
      "  warnings.warn(\n"
     ]
    },
    {
     "name": "stdout",
     "output_type": "stream",
     "text": [
      "[DEBUG] type(X): <class 'pandas.core.frame.DataFrame'>, shape: (400, 1)\n"
     ]
    },
    {
     "name": "stderr",
     "output_type": "stream",
     "text": [
      "/opt/anaconda3/envs/CSB320/lib/python3.9/site-packages/sklearn/pipeline.py:62: FutureWarning: This Pipeline instance is not fitted yet. Call 'fit' with appropriate arguments before using other methods such as transform, predict, etc. This will raise an error in 1.8 instead of the current warning.\n",
      "  warnings.warn(\n"
     ]
    },
    {
     "name": "stdout",
     "output_type": "stream",
     "text": [
      "[DEBUG] type(X): <class 'pandas.core.frame.DataFrame'>, shape: (400, 1)\n",
      "[DEBUG] type(X): <class 'pandas.core.frame.DataFrame'>, shape: (400, 1)\n",
      "[DEBUG] type(X): <class 'pandas.core.frame.DataFrame'>, shape: (400, 1)\n"
     ]
    },
    {
     "name": "stderr",
     "output_type": "stream",
     "text": [
      "/opt/anaconda3/envs/CSB320/lib/python3.9/site-packages/sklearn/pipeline.py:62: FutureWarning: This Pipeline instance is not fitted yet. Call 'fit' with appropriate arguments before using other methods such as transform, predict, etc. This will raise an error in 1.8 instead of the current warning.\n",
      "  warnings.warn(\n",
      "/opt/anaconda3/envs/CSB320/lib/python3.9/site-packages/sklearn/pipeline.py:62: FutureWarning: This Pipeline instance is not fitted yet. Call 'fit' with appropriate arguments before using other methods such as transform, predict, etc. This will raise an error in 1.8 instead of the current warning.\n",
      "  warnings.warn(\n",
      "/opt/anaconda3/envs/CSB320/lib/python3.9/site-packages/sklearn/pipeline.py:62: FutureWarning: This Pipeline instance is not fitted yet. Call 'fit' with appropriate arguments before using other methods such as transform, predict, etc. This will raise an error in 1.8 instead of the current warning.\n",
      "  warnings.warn(\n"
     ]
    },
    {
     "name": "stdout",
     "output_type": "stream",
     "text": [
      "[DEBUG] type(X): <class 'pandas.core.frame.DataFrame'>, shape: (400, 1)\n"
     ]
    },
    {
     "name": "stderr",
     "output_type": "stream",
     "text": [
      "/opt/anaconda3/envs/CSB320/lib/python3.9/site-packages/sklearn/pipeline.py:62: FutureWarning: This Pipeline instance is not fitted yet. Call 'fit' with appropriate arguments before using other methods such as transform, predict, etc. This will raise an error in 1.8 instead of the current warning.\n",
      "  warnings.warn(\n"
     ]
    },
    {
     "name": "stdout",
     "output_type": "stream",
     "text": [
      "[DEBUG] type(X): <class 'pandas.core.frame.DataFrame'>, shape: (400, 1)\n"
     ]
    },
    {
     "name": "stderr",
     "output_type": "stream",
     "text": [
      "/opt/anaconda3/envs/CSB320/lib/python3.9/site-packages/sklearn/pipeline.py:62: FutureWarning: This Pipeline instance is not fitted yet. Call 'fit' with appropriate arguments before using other methods such as transform, predict, etc. This will raise an error in 1.8 instead of the current warning.\n",
      "  warnings.warn(\n"
     ]
    },
    {
     "name": "stdout",
     "output_type": "stream",
     "text": [
      "[DEBUG] type(X): <class 'pandas.core.frame.DataFrame'>, shape: (400, 1)\n"
     ]
    },
    {
     "name": "stderr",
     "output_type": "stream",
     "text": [
      "/opt/anaconda3/envs/CSB320/lib/python3.9/site-packages/sklearn/pipeline.py:62: FutureWarning: This Pipeline instance is not fitted yet. Call 'fit' with appropriate arguments before using other methods such as transform, predict, etc. This will raise an error in 1.8 instead of the current warning.\n",
      "  warnings.warn(\n"
     ]
    },
    {
     "name": "stdout",
     "output_type": "stream",
     "text": [
      "[DEBUG] type(X): <class 'pandas.core.frame.DataFrame'>, shape: (1600, 1)\n",
      "[DEBUG] type(X): <class 'pandas.core.frame.DataFrame'>, shape: (1600, 1)\n",
      "[DEBUG] type(X): <class 'pandas.core.frame.DataFrame'>, shape: (1600, 1)\n",
      "[DEBUG] type(X): <class 'pandas.core.frame.DataFrame'>, shape: (1600, 1)\n",
      "[DEBUG] type(X): <class 'pandas.core.frame.DataFrame'>, shape: (1600, 1)\n",
      "[DEBUG] type(X): <class 'pandas.core.frame.DataFrame'>, shape: (1600, 1)\n",
      "[DEBUG] type(X): <class 'pandas.core.frame.DataFrame'>, shape: (1600, 1)\n",
      "[DEBUG] type(X): <class 'pandas.core.frame.DataFrame'>, shape: (1600, 1)\n",
      "[DEBUG] type(X): <class 'pandas.core.frame.DataFrame'>, shape: (400, 1)\n"
     ]
    },
    {
     "name": "stderr",
     "output_type": "stream",
     "text": [
      "/opt/anaconda3/envs/CSB320/lib/python3.9/site-packages/sklearn/pipeline.py:62: FutureWarning: This Pipeline instance is not fitted yet. Call 'fit' with appropriate arguments before using other methods such as transform, predict, etc. This will raise an error in 1.8 instead of the current warning.\n",
      "  warnings.warn(\n"
     ]
    },
    {
     "name": "stdout",
     "output_type": "stream",
     "text": [
      "[DEBUG] type(X): <class 'pandas.core.frame.DataFrame'>, shape: (400, 1)\n"
     ]
    },
    {
     "name": "stderr",
     "output_type": "stream",
     "text": [
      "/opt/anaconda3/envs/CSB320/lib/python3.9/site-packages/sklearn/pipeline.py:62: FutureWarning: This Pipeline instance is not fitted yet. Call 'fit' with appropriate arguments before using other methods such as transform, predict, etc. This will raise an error in 1.8 instead of the current warning.\n",
      "  warnings.warn(\n"
     ]
    },
    {
     "name": "stdout",
     "output_type": "stream",
     "text": [
      "[DEBUG] type(X): <class 'pandas.core.frame.DataFrame'>, shape: (400, 1)\n"
     ]
    },
    {
     "name": "stderr",
     "output_type": "stream",
     "text": [
      "/opt/anaconda3/envs/CSB320/lib/python3.9/site-packages/sklearn/pipeline.py:62: FutureWarning: This Pipeline instance is not fitted yet. Call 'fit' with appropriate arguments before using other methods such as transform, predict, etc. This will raise an error in 1.8 instead of the current warning.\n",
      "  warnings.warn(\n"
     ]
    },
    {
     "name": "stdout",
     "output_type": "stream",
     "text": [
      "[DEBUG] type(X): <class 'pandas.core.frame.DataFrame'>, shape: (400, 1)\n"
     ]
    },
    {
     "name": "stderr",
     "output_type": "stream",
     "text": [
      "/opt/anaconda3/envs/CSB320/lib/python3.9/site-packages/sklearn/pipeline.py:62: FutureWarning: This Pipeline instance is not fitted yet. Call 'fit' with appropriate arguments before using other methods such as transform, predict, etc. This will raise an error in 1.8 instead of the current warning.\n",
      "  warnings.warn(\n"
     ]
    },
    {
     "name": "stdout",
     "output_type": "stream",
     "text": [
      "[DEBUG] type(X): <class 'pandas.core.frame.DataFrame'>, shape: (400, 1)\n"
     ]
    },
    {
     "name": "stderr",
     "output_type": "stream",
     "text": [
      "/opt/anaconda3/envs/CSB320/lib/python3.9/site-packages/sklearn/pipeline.py:62: FutureWarning: This Pipeline instance is not fitted yet. Call 'fit' with appropriate arguments before using other methods such as transform, predict, etc. This will raise an error in 1.8 instead of the current warning.\n",
      "  warnings.warn(\n"
     ]
    },
    {
     "name": "stdout",
     "output_type": "stream",
     "text": [
      "[DEBUG] type(X): <class 'pandas.core.frame.DataFrame'>, shape: (400, 1)\n"
     ]
    },
    {
     "name": "stderr",
     "output_type": "stream",
     "text": [
      "/opt/anaconda3/envs/CSB320/lib/python3.9/site-packages/sklearn/pipeline.py:62: FutureWarning: This Pipeline instance is not fitted yet. Call 'fit' with appropriate arguments before using other methods such as transform, predict, etc. This will raise an error in 1.8 instead of the current warning.\n",
      "  warnings.warn(\n"
     ]
    },
    {
     "name": "stdout",
     "output_type": "stream",
     "text": [
      "[DEBUG] type(X): <class 'pandas.core.frame.DataFrame'>, shape: (400, 1)\n"
     ]
    },
    {
     "name": "stderr",
     "output_type": "stream",
     "text": [
      "/opt/anaconda3/envs/CSB320/lib/python3.9/site-packages/sklearn/pipeline.py:62: FutureWarning: This Pipeline instance is not fitted yet. Call 'fit' with appropriate arguments before using other methods such as transform, predict, etc. This will raise an error in 1.8 instead of the current warning.\n",
      "  warnings.warn(\n"
     ]
    },
    {
     "name": "stdout",
     "output_type": "stream",
     "text": [
      "[DEBUG] type(X): <class 'pandas.core.frame.DataFrame'>, shape: (400, 1)\n"
     ]
    },
    {
     "name": "stderr",
     "output_type": "stream",
     "text": [
      "/opt/anaconda3/envs/CSB320/lib/python3.9/site-packages/sklearn/pipeline.py:62: FutureWarning: This Pipeline instance is not fitted yet. Call 'fit' with appropriate arguments before using other methods such as transform, predict, etc. This will raise an error in 1.8 instead of the current warning.\n",
      "  warnings.warn(\n"
     ]
    },
    {
     "name": "stdout",
     "output_type": "stream",
     "text": [
      "[DEBUG] type(X): <class 'pandas.core.frame.DataFrame'>, shape: (1600, 1)\n",
      "[DEBUG] type(X): <class 'pandas.core.frame.DataFrame'>, shape: (1600, 1)\n",
      "[DEBUG] type(X): <class 'pandas.core.frame.DataFrame'>, shape: (1600, 1)\n",
      "[DEBUG] type(X): <class 'pandas.core.frame.DataFrame'>, shape: (1600, 1)\n",
      "[DEBUG] type(X): <class 'pandas.core.frame.DataFrame'>, shape: (400, 1)\n"
     ]
    },
    {
     "name": "stderr",
     "output_type": "stream",
     "text": [
      "/opt/anaconda3/envs/CSB320/lib/python3.9/site-packages/sklearn/pipeline.py:62: FutureWarning: This Pipeline instance is not fitted yet. Call 'fit' with appropriate arguments before using other methods such as transform, predict, etc. This will raise an error in 1.8 instead of the current warning.\n",
      "  warnings.warn(\n"
     ]
    },
    {
     "name": "stdout",
     "output_type": "stream",
     "text": [
      "[DEBUG] type(X): <class 'pandas.core.frame.DataFrame'>, shape: (400, 1)\n"
     ]
    },
    {
     "name": "stderr",
     "output_type": "stream",
     "text": [
      "/opt/anaconda3/envs/CSB320/lib/python3.9/site-packages/sklearn/pipeline.py:62: FutureWarning: This Pipeline instance is not fitted yet. Call 'fit' with appropriate arguments before using other methods such as transform, predict, etc. This will raise an error in 1.8 instead of the current warning.\n",
      "  warnings.warn(\n"
     ]
    },
    {
     "name": "stdout",
     "output_type": "stream",
     "text": [
      "[DEBUG] type(X): <class 'pandas.core.frame.DataFrame'>, shape: (400, 1)\n"
     ]
    },
    {
     "name": "stderr",
     "output_type": "stream",
     "text": [
      "/opt/anaconda3/envs/CSB320/lib/python3.9/site-packages/sklearn/pipeline.py:62: FutureWarning: This Pipeline instance is not fitted yet. Call 'fit' with appropriate arguments before using other methods such as transform, predict, etc. This will raise an error in 1.8 instead of the current warning.\n",
      "  warnings.warn(\n"
     ]
    },
    {
     "name": "stdout",
     "output_type": "stream",
     "text": [
      "[DEBUG] type(X): <class 'pandas.core.frame.DataFrame'>, shape: (400, 1)\n"
     ]
    },
    {
     "name": "stderr",
     "output_type": "stream",
     "text": [
      "/opt/anaconda3/envs/CSB320/lib/python3.9/site-packages/sklearn/pipeline.py:62: FutureWarning: This Pipeline instance is not fitted yet. Call 'fit' with appropriate arguments before using other methods such as transform, predict, etc. This will raise an error in 1.8 instead of the current warning.\n",
      "  warnings.warn(\n"
     ]
    },
    {
     "name": "stdout",
     "output_type": "stream",
     "text": [
      "[DEBUG] type(X): <class 'pandas.core.frame.DataFrame'>, shape: (2000, 1)\n"
     ]
    }
   ],
   "source": [
    "with parallel_backend(\"threading\"):\n",
    "    grid_search_sbw.fit(X_train, y_train)"
   ]
  },
  {
   "cell_type": "code",
   "execution_count": 6,
   "id": "a952e882",
   "metadata": {},
   "outputs": [
    {
     "ename": "NameError",
     "evalue": "name 'grid_search_sbw' is not defined",
     "output_type": "error",
     "traceback": [
      "\u001b[0;31m---------------------------------------------------------------------------\u001b[0m",
      "\u001b[0;31mNameError\u001b[0m                                 Traceback (most recent call last)",
      "Cell \u001b[0;32mIn[6], line 4\u001b[0m\n\u001b[1;32m      1\u001b[0m grid_search_report(\n\u001b[1;32m      2\u001b[0m     \u001b[38;5;124m\"\u001b[39m\u001b[38;5;124mBag of words sentiment anlysis, linear regression\u001b[39m\u001b[38;5;124m\"\u001b[39m,\n\u001b[1;32m      3\u001b[0m     \u001b[38;5;124m\"\u001b[39m\u001b[38;5;124mF1\u001b[39m\u001b[38;5;124m\"\u001b[39m,\n\u001b[0;32m----> 4\u001b[0m     \u001b[43mgrid_search_sbw\u001b[49m,\n\u001b[1;32m      5\u001b[0m     X_test,\n\u001b[1;32m      6\u001b[0m     y_test,\n\u001b[1;32m      7\u001b[0m )\n",
      "\u001b[0;31mNameError\u001b[0m: name 'grid_search_sbw' is not defined"
     ]
    }
   ],
   "source": [
    "grid_search_report(\n",
    "    \"Bag of words sentiment anlysis, linear regression\",\n",
    "    \"F1\",\n",
    "    grid_search_sbw,\n",
    "    X_test,\n",
    "    y_test,\n",
    ")"
   ]
  },
  {
   "cell_type": "markdown",
   "id": "4b67cce5",
   "metadata": {},
   "source": [
    "# Model 2: TF-IDF Sentiment Analysis"
   ]
  },
  {
   "cell_type": "code",
   "execution_count": null,
   "id": "ec7a3793",
   "metadata": {},
   "outputs": [],
   "source": [
    "estimator_tfidf = get_textvec_pipeline(tf_idf=True, pca=False)\n",
    "grid_search_tfidf = GridSearchCV(\n",
    "    estimator_tfidf,\n",
    "    get_textvect_grid_search_params(tf_idf=True, pca=False),\n",
    "    scoring=\"f1\",\n",
    "    cv=5,\n",
    "    n_jobs=-1,\n",
    ")"
   ]
  },
  {
   "cell_type": "code",
   "execution_count": null,
   "id": "9d4cacb9",
   "metadata": {},
   "outputs": [
    {
     "name": "stdout",
     "output_type": "stream",
     "text": [
      "[DEBUG] type(X): <class 'pandas.core.frame.DataFrame'>, shape: (1600, 1)\n",
      "[DEBUG] type(X): <class 'pandas.core.frame.DataFrame'>, shape: (1600, 1)\n",
      "[DEBUG] type(X): <class 'pandas.core.frame.DataFrame'>, shape: (1600, 1)\n",
      "[DEBUG] type(X): <class 'pandas.core.frame.DataFrame'>, shape: (1600, 1)\n",
      "[DEBUG] type(X): <class 'pandas.core.frame.DataFrame'>, shape: (1600, 1)\n",
      "[DEBUG] type(X): <class 'pandas.core.frame.DataFrame'>, shape: (1600, 1)\n",
      "[DEBUG] type(X): <class 'pandas.core.frame.DataFrame'>, shape: (1600, 1)\n",
      "[DEBUG] type(X): <class 'pandas.core.frame.DataFrame'>, shape: (1600, 1)\n",
      "[DEBUG] type(X): <class 'pandas.core.frame.DataFrame'>, shape: (400, 1)\n"
     ]
    },
    {
     "name": "stderr",
     "output_type": "stream",
     "text": [
      "/opt/anaconda3/envs/CSB320/lib/python3.9/site-packages/sklearn/pipeline.py:62: FutureWarning: This Pipeline instance is not fitted yet. Call 'fit' with appropriate arguments before using other methods such as transform, predict, etc. This will raise an error in 1.8 instead of the current warning.\n",
      "  warnings.warn(\n"
     ]
    },
    {
     "name": "stdout",
     "output_type": "stream",
     "text": [
      "[DEBUG] type(X): <class 'pandas.core.frame.DataFrame'>, shape: (400, 1)\n",
      "[DEBUG] type(X): <class 'pandas.core.frame.DataFrame'>, shape: (400, 1)\n"
     ]
    },
    {
     "name": "stderr",
     "output_type": "stream",
     "text": [
      "/opt/anaconda3/envs/CSB320/lib/python3.9/site-packages/sklearn/pipeline.py:62: FutureWarning: This Pipeline instance is not fitted yet. Call 'fit' with appropriate arguments before using other methods such as transform, predict, etc. This will raise an error in 1.8 instead of the current warning.\n",
      "  warnings.warn(\n",
      "/opt/anaconda3/envs/CSB320/lib/python3.9/site-packages/sklearn/pipeline.py:62: FutureWarning: This Pipeline instance is not fitted yet. Call 'fit' with appropriate arguments before using other methods such as transform, predict, etc. This will raise an error in 1.8 instead of the current warning.\n",
      "  warnings.warn(\n"
     ]
    },
    {
     "name": "stdout",
     "output_type": "stream",
     "text": [
      "[DEBUG] type(X): <class 'pandas.core.frame.DataFrame'>, shape: (400, 1)\n",
      "[DEBUG] type(X): <class 'pandas.core.frame.DataFrame'>, shape: (400, 1)\n"
     ]
    },
    {
     "name": "stderr",
     "output_type": "stream",
     "text": [
      "/opt/anaconda3/envs/CSB320/lib/python3.9/site-packages/sklearn/pipeline.py:62: FutureWarning: This Pipeline instance is not fitted yet. Call 'fit' with appropriate arguments before using other methods such as transform, predict, etc. This will raise an error in 1.8 instead of the current warning.\n",
      "  warnings.warn(\n"
     ]
    },
    {
     "name": "stdout",
     "output_type": "stream",
     "text": [
      "[DEBUG] type(X): <class 'pandas.core.frame.DataFrame'>, shape: (400, 1)\n"
     ]
    },
    {
     "name": "stderr",
     "output_type": "stream",
     "text": [
      "/opt/anaconda3/envs/CSB320/lib/python3.9/site-packages/sklearn/pipeline.py:62: FutureWarning: This Pipeline instance is not fitted yet. Call 'fit' with appropriate arguments before using other methods such as transform, predict, etc. This will raise an error in 1.8 instead of the current warning.\n",
      "  warnings.warn(\n",
      "/opt/anaconda3/envs/CSB320/lib/python3.9/site-packages/sklearn/pipeline.py:62: FutureWarning: This Pipeline instance is not fitted yet. Call 'fit' with appropriate arguments before using other methods such as transform, predict, etc. This will raise an error in 1.8 instead of the current warning.\n",
      "  warnings.warn(\n"
     ]
    },
    {
     "name": "stdout",
     "output_type": "stream",
     "text": [
      "[DEBUG] type(X): <class 'pandas.core.frame.DataFrame'>, shape: (400, 1)\n"
     ]
    },
    {
     "name": "stderr",
     "output_type": "stream",
     "text": [
      "/opt/anaconda3/envs/CSB320/lib/python3.9/site-packages/sklearn/pipeline.py:62: FutureWarning: This Pipeline instance is not fitted yet. Call 'fit' with appropriate arguments before using other methods such as transform, predict, etc. This will raise an error in 1.8 instead of the current warning.\n",
      "  warnings.warn(\n"
     ]
    },
    {
     "name": "stdout",
     "output_type": "stream",
     "text": [
      "[DEBUG] type(X): <class 'pandas.core.frame.DataFrame'>, shape: (400, 1)\n"
     ]
    },
    {
     "name": "stderr",
     "output_type": "stream",
     "text": [
      "/opt/anaconda3/envs/CSB320/lib/python3.9/site-packages/sklearn/pipeline.py:62: FutureWarning: This Pipeline instance is not fitted yet. Call 'fit' with appropriate arguments before using other methods such as transform, predict, etc. This will raise an error in 1.8 instead of the current warning.\n",
      "  warnings.warn(\n"
     ]
    },
    {
     "name": "stdout",
     "output_type": "stream",
     "text": [
      "[DEBUG] type(X): <class 'pandas.core.frame.DataFrame'>, shape: (1600, 1)\n",
      "[DEBUG] type(X): <class 'pandas.core.frame.DataFrame'>, shape: (1600, 1)\n",
      "[DEBUG] type(X): <class 'pandas.core.frame.DataFrame'>, shape: (1600, 1)\n",
      "[DEBUG] type(X): <class 'pandas.core.frame.DataFrame'>, shape: (1600, 1)[DEBUG] type(X): <class 'pandas.core.frame.DataFrame'>, shape: (1600, 1)\n",
      "\n",
      "[DEBUG] type(X): <class 'pandas.core.frame.DataFrame'>, shape: (1600, 1)\n",
      "[DEBUG] type(X): <class 'pandas.core.frame.DataFrame'>, shape: (1600, 1)\n",
      "[DEBUG] type(X): <class 'pandas.core.frame.DataFrame'>, shape: (1600, 1)\n",
      "[DEBUG] type(X): <class 'pandas.core.frame.DataFrame'>, shape: (400, 1)\n"
     ]
    },
    {
     "name": "stderr",
     "output_type": "stream",
     "text": [
      "/opt/anaconda3/envs/CSB320/lib/python3.9/site-packages/sklearn/pipeline.py:62: FutureWarning: This Pipeline instance is not fitted yet. Call 'fit' with appropriate arguments before using other methods such as transform, predict, etc. This will raise an error in 1.8 instead of the current warning.\n",
      "  warnings.warn(\n"
     ]
    },
    {
     "name": "stdout",
     "output_type": "stream",
     "text": [
      "[DEBUG] type(X): <class 'pandas.core.frame.DataFrame'>, shape: (400, 1)\n"
     ]
    },
    {
     "name": "stderr",
     "output_type": "stream",
     "text": [
      "/opt/anaconda3/envs/CSB320/lib/python3.9/site-packages/sklearn/pipeline.py:62: FutureWarning: This Pipeline instance is not fitted yet. Call 'fit' with appropriate arguments before using other methods such as transform, predict, etc. This will raise an error in 1.8 instead of the current warning.\n",
      "  warnings.warn(\n"
     ]
    },
    {
     "name": "stdout",
     "output_type": "stream",
     "text": [
      "[DEBUG] type(X): <class 'pandas.core.frame.DataFrame'>, shape: (400, 1)\n"
     ]
    },
    {
     "name": "stderr",
     "output_type": "stream",
     "text": [
      "/opt/anaconda3/envs/CSB320/lib/python3.9/site-packages/sklearn/pipeline.py:62: FutureWarning: This Pipeline instance is not fitted yet. Call 'fit' with appropriate arguments before using other methods such as transform, predict, etc. This will raise an error in 1.8 instead of the current warning.\n",
      "  warnings.warn(\n"
     ]
    },
    {
     "name": "stdout",
     "output_type": "stream",
     "text": [
      "[DEBUG] type(X): <class 'pandas.core.frame.DataFrame'>, shape: (400, 1)\n"
     ]
    },
    {
     "name": "stderr",
     "output_type": "stream",
     "text": [
      "/opt/anaconda3/envs/CSB320/lib/python3.9/site-packages/sklearn/pipeline.py:62: FutureWarning: This Pipeline instance is not fitted yet. Call 'fit' with appropriate arguments before using other methods such as transform, predict, etc. This will raise an error in 1.8 instead of the current warning.\n",
      "  warnings.warn(\n"
     ]
    },
    {
     "name": "stdout",
     "output_type": "stream",
     "text": [
      "[DEBUG] type(X): <class 'pandas.core.frame.DataFrame'>, shape: (400, 1)\n"
     ]
    },
    {
     "name": "stderr",
     "output_type": "stream",
     "text": [
      "/opt/anaconda3/envs/CSB320/lib/python3.9/site-packages/sklearn/pipeline.py:62: FutureWarning: This Pipeline instance is not fitted yet. Call 'fit' with appropriate arguments before using other methods such as transform, predict, etc. This will raise an error in 1.8 instead of the current warning.\n",
      "  warnings.warn(\n"
     ]
    },
    {
     "name": "stdout",
     "output_type": "stream",
     "text": [
      "[DEBUG] type(X): <class 'pandas.core.frame.DataFrame'>, shape: (400, 1)\n"
     ]
    },
    {
     "name": "stderr",
     "output_type": "stream",
     "text": [
      "/opt/anaconda3/envs/CSB320/lib/python3.9/site-packages/sklearn/pipeline.py:62: FutureWarning: This Pipeline instance is not fitted yet. Call 'fit' with appropriate arguments before using other methods such as transform, predict, etc. This will raise an error in 1.8 instead of the current warning.\n",
      "  warnings.warn(\n"
     ]
    },
    {
     "name": "stdout",
     "output_type": "stream",
     "text": [
      "[DEBUG] type(X): <class 'pandas.core.frame.DataFrame'>, shape: (400, 1)\n"
     ]
    },
    {
     "name": "stderr",
     "output_type": "stream",
     "text": [
      "/opt/anaconda3/envs/CSB320/lib/python3.9/site-packages/sklearn/pipeline.py:62: FutureWarning: This Pipeline instance is not fitted yet. Call 'fit' with appropriate arguments before using other methods such as transform, predict, etc. This will raise an error in 1.8 instead of the current warning.\n",
      "  warnings.warn(\n"
     ]
    },
    {
     "name": "stdout",
     "output_type": "stream",
     "text": [
      "[DEBUG] type(X): <class 'pandas.core.frame.DataFrame'>, shape: (400, 1)\n"
     ]
    },
    {
     "name": "stderr",
     "output_type": "stream",
     "text": [
      "/opt/anaconda3/envs/CSB320/lib/python3.9/site-packages/sklearn/pipeline.py:62: FutureWarning: This Pipeline instance is not fitted yet. Call 'fit' with appropriate arguments before using other methods such as transform, predict, etc. This will raise an error in 1.8 instead of the current warning.\n",
      "  warnings.warn(\n"
     ]
    },
    {
     "name": "stdout",
     "output_type": "stream",
     "text": [
      "[DEBUG] type(X): <class 'pandas.core.frame.DataFrame'>, shape: (1600, 1)\n",
      "[DEBUG] type(X): <class 'pandas.core.frame.DataFrame'>, shape: (1600, 1)\n",
      "[DEBUG] type(X): <class 'pandas.core.frame.DataFrame'>, shape: (1600, 1)\n",
      "[DEBUG] type(X): <class 'pandas.core.frame.DataFrame'>, shape: (1600, 1)\n",
      "[DEBUG] type(X): <class 'pandas.core.frame.DataFrame'>, shape: (1600, 1)\n",
      "[DEBUG] type(X): <class 'pandas.core.frame.DataFrame'>, shape: (1600, 1)\n",
      "[DEBUG] type(X): <class 'pandas.core.frame.DataFrame'>, shape: (1600, 1)\n",
      "[DEBUG] type(X): <class 'pandas.core.frame.DataFrame'>, shape: (1600, 1)\n",
      "[DEBUG] type(X): <class 'pandas.core.frame.DataFrame'>, shape: (400, 1)\n",
      "[DEBUG] type(X): <class 'pandas.core.frame.DataFrame'>, shape: (400, 1)\n"
     ]
    },
    {
     "name": "stderr",
     "output_type": "stream",
     "text": [
      "/opt/anaconda3/envs/CSB320/lib/python3.9/site-packages/sklearn/pipeline.py:62: FutureWarning: This Pipeline instance is not fitted yet. Call 'fit' with appropriate arguments before using other methods such as transform, predict, etc. This will raise an error in 1.8 instead of the current warning.\n",
      "  warnings.warn(\n",
      "/opt/anaconda3/envs/CSB320/lib/python3.9/site-packages/sklearn/pipeline.py:62: FutureWarning: This Pipeline instance is not fitted yet. Call 'fit' with appropriate arguments before using other methods such as transform, predict, etc. This will raise an error in 1.8 instead of the current warning.\n",
      "  warnings.warn(\n"
     ]
    },
    {
     "name": "stdout",
     "output_type": "stream",
     "text": [
      "[DEBUG] type(X): <class 'pandas.core.frame.DataFrame'>, shape: (400, 1)\n"
     ]
    },
    {
     "name": "stderr",
     "output_type": "stream",
     "text": [
      "/opt/anaconda3/envs/CSB320/lib/python3.9/site-packages/sklearn/pipeline.py:62: FutureWarning: This Pipeline instance is not fitted yet. Call 'fit' with appropriate arguments before using other methods such as transform, predict, etc. This will raise an error in 1.8 instead of the current warning.\n",
      "  warnings.warn(\n"
     ]
    },
    {
     "name": "stdout",
     "output_type": "stream",
     "text": [
      "[DEBUG] type(X): <class 'pandas.core.frame.DataFrame'>, shape: (400, 1)\n",
      "[DEBUG] type(X): <class 'pandas.core.frame.DataFrame'>, shape: (400, 1)\n",
      "[DEBUG] type(X): <class 'pandas.core.frame.DataFrame'>, shape: (400, 1)\n"
     ]
    },
    {
     "name": "stderr",
     "output_type": "stream",
     "text": [
      "/opt/anaconda3/envs/CSB320/lib/python3.9/site-packages/sklearn/pipeline.py:62: FutureWarning: This Pipeline instance is not fitted yet. Call 'fit' with appropriate arguments before using other methods such as transform, predict, etc. This will raise an error in 1.8 instead of the current warning.\n",
      "  warnings.warn(\n",
      "/opt/anaconda3/envs/CSB320/lib/python3.9/site-packages/sklearn/pipeline.py:62: FutureWarning: This Pipeline instance is not fitted yet. Call 'fit' with appropriate arguments before using other methods such as transform, predict, etc. This will raise an error in 1.8 instead of the current warning.\n",
      "  warnings.warn(\n",
      "/opt/anaconda3/envs/CSB320/lib/python3.9/site-packages/sklearn/pipeline.py:62: FutureWarning: This Pipeline instance is not fitted yet. Call 'fit' with appropriate arguments before using other methods such as transform, predict, etc. This will raise an error in 1.8 instead of the current warning.\n",
      "  warnings.warn(\n"
     ]
    },
    {
     "name": "stdout",
     "output_type": "stream",
     "text": [
      "[DEBUG] type(X): <class 'pandas.core.frame.DataFrame'>, shape: (400, 1)\n",
      "[DEBUG] type(X): <class 'pandas.core.frame.DataFrame'>, shape: (400, 1)\n"
     ]
    },
    {
     "name": "stderr",
     "output_type": "stream",
     "text": [
      "/opt/anaconda3/envs/CSB320/lib/python3.9/site-packages/sklearn/pipeline.py:62: FutureWarning: This Pipeline instance is not fitted yet. Call 'fit' with appropriate arguments before using other methods such as transform, predict, etc. This will raise an error in 1.8 instead of the current warning.\n",
      "  warnings.warn(\n",
      "/opt/anaconda3/envs/CSB320/lib/python3.9/site-packages/sklearn/pipeline.py:62: FutureWarning: This Pipeline instance is not fitted yet. Call 'fit' with appropriate arguments before using other methods such as transform, predict, etc. This will raise an error in 1.8 instead of the current warning.\n",
      "  warnings.warn(\n"
     ]
    },
    {
     "name": "stdout",
     "output_type": "stream",
     "text": [
      "[DEBUG] type(X): <class 'pandas.core.frame.DataFrame'>, shape: (1600, 1)\n",
      "[DEBUG] type(X): <class 'pandas.core.frame.DataFrame'>, shape: (1600, 1)\n",
      "[DEBUG] type(X): <class 'pandas.core.frame.DataFrame'>, shape: (1600, 1)\n",
      "[DEBUG] type(X): <class 'pandas.core.frame.DataFrame'>, shape: (1600, 1)\n",
      "[DEBUG] type(X): <class 'pandas.core.frame.DataFrame'>, shape: (1600, 1)\n",
      "[DEBUG] type(X): <class 'pandas.core.frame.DataFrame'>, shape: (1600, 1)\n",
      "[DEBUG] type(X): <class 'pandas.core.frame.DataFrame'>, shape: (1600, 1)\n",
      "[DEBUG] type(X): <class 'pandas.core.frame.DataFrame'>, shape: (1600, 1)\n",
      "[DEBUG] type(X): <class 'pandas.core.frame.DataFrame'>, shape: (400, 1)\n"
     ]
    },
    {
     "name": "stderr",
     "output_type": "stream",
     "text": [
      "/opt/anaconda3/envs/CSB320/lib/python3.9/site-packages/sklearn/pipeline.py:62: FutureWarning: This Pipeline instance is not fitted yet. Call 'fit' with appropriate arguments before using other methods such as transform, predict, etc. This will raise an error in 1.8 instead of the current warning.\n",
      "  warnings.warn(\n"
     ]
    },
    {
     "name": "stdout",
     "output_type": "stream",
     "text": [
      "[DEBUG] type(X): <class 'pandas.core.frame.DataFrame'>, shape: (400, 1)\n"
     ]
    },
    {
     "name": "stderr",
     "output_type": "stream",
     "text": [
      "/opt/anaconda3/envs/CSB320/lib/python3.9/site-packages/sklearn/pipeline.py:62: FutureWarning: This Pipeline instance is not fitted yet. Call 'fit' with appropriate arguments before using other methods such as transform, predict, etc. This will raise an error in 1.8 instead of the current warning.\n",
      "  warnings.warn(\n"
     ]
    },
    {
     "name": "stdout",
     "output_type": "stream",
     "text": [
      "[DEBUG] type(X): <class 'pandas.core.frame.DataFrame'>, shape: (400, 1)\n"
     ]
    },
    {
     "name": "stderr",
     "output_type": "stream",
     "text": [
      "/opt/anaconda3/envs/CSB320/lib/python3.9/site-packages/sklearn/pipeline.py:62: FutureWarning: This Pipeline instance is not fitted yet. Call 'fit' with appropriate arguments before using other methods such as transform, predict, etc. This will raise an error in 1.8 instead of the current warning.\n",
      "  warnings.warn(\n"
     ]
    },
    {
     "name": "stdout",
     "output_type": "stream",
     "text": [
      "[DEBUG] type(X): <class 'pandas.core.frame.DataFrame'>, shape: (400, 1)\n"
     ]
    },
    {
     "name": "stderr",
     "output_type": "stream",
     "text": [
      "/opt/anaconda3/envs/CSB320/lib/python3.9/site-packages/sklearn/pipeline.py:62: FutureWarning: This Pipeline instance is not fitted yet. Call 'fit' with appropriate arguments before using other methods such as transform, predict, etc. This will raise an error in 1.8 instead of the current warning.\n",
      "  warnings.warn(\n"
     ]
    },
    {
     "name": "stdout",
     "output_type": "stream",
     "text": [
      "[DEBUG] type(X): <class 'pandas.core.frame.DataFrame'>, shape: (400, 1)\n"
     ]
    },
    {
     "name": "stderr",
     "output_type": "stream",
     "text": [
      "/opt/anaconda3/envs/CSB320/lib/python3.9/site-packages/sklearn/pipeline.py:62: FutureWarning: This Pipeline instance is not fitted yet. Call 'fit' with appropriate arguments before using other methods such as transform, predict, etc. This will raise an error in 1.8 instead of the current warning.\n",
      "  warnings.warn(\n"
     ]
    },
    {
     "name": "stdout",
     "output_type": "stream",
     "text": [
      "[DEBUG] type(X): <class 'pandas.core.frame.DataFrame'>, shape: (400, 1)\n"
     ]
    },
    {
     "name": "stderr",
     "output_type": "stream",
     "text": [
      "/opt/anaconda3/envs/CSB320/lib/python3.9/site-packages/sklearn/pipeline.py:62: FutureWarning: This Pipeline instance is not fitted yet. Call 'fit' with appropriate arguments before using other methods such as transform, predict, etc. This will raise an error in 1.8 instead of the current warning.\n",
      "  warnings.warn(\n"
     ]
    },
    {
     "name": "stdout",
     "output_type": "stream",
     "text": [
      "[DEBUG] type(X): <class 'pandas.core.frame.DataFrame'>, shape: (400, 1)\n"
     ]
    },
    {
     "name": "stderr",
     "output_type": "stream",
     "text": [
      "/opt/anaconda3/envs/CSB320/lib/python3.9/site-packages/sklearn/pipeline.py:62: FutureWarning: This Pipeline instance is not fitted yet. Call 'fit' with appropriate arguments before using other methods such as transform, predict, etc. This will raise an error in 1.8 instead of the current warning.\n",
      "  warnings.warn(\n"
     ]
    },
    {
     "name": "stdout",
     "output_type": "stream",
     "text": [
      "[DEBUG] type(X): <class 'pandas.core.frame.DataFrame'>, shape: (400, 1)\n"
     ]
    },
    {
     "name": "stderr",
     "output_type": "stream",
     "text": [
      "/opt/anaconda3/envs/CSB320/lib/python3.9/site-packages/sklearn/pipeline.py:62: FutureWarning: This Pipeline instance is not fitted yet. Call 'fit' with appropriate arguments before using other methods such as transform, predict, etc. This will raise an error in 1.8 instead of the current warning.\n",
      "  warnings.warn(\n"
     ]
    },
    {
     "name": "stdout",
     "output_type": "stream",
     "text": [
      "[DEBUG] type(X): <class 'pandas.core.frame.DataFrame'>, shape: (1600, 1)\n",
      "[DEBUG] type(X): <class 'pandas.core.frame.DataFrame'>, shape: (1600, 1)\n",
      "[DEBUG] type(X): <class 'pandas.core.frame.DataFrame'>, shape: (1600, 1)\n",
      "[DEBUG] type(X): <class 'pandas.core.frame.DataFrame'>, shape: (1600, 1)\n",
      "[DEBUG] type(X): <class 'pandas.core.frame.DataFrame'>, shape: (1600, 1)\n",
      "[DEBUG] type(X): <class 'pandas.core.frame.DataFrame'>, shape: (1600, 1)\n",
      "[DEBUG] type(X): <class 'pandas.core.frame.DataFrame'>, shape: (1600, 1)\n",
      "[DEBUG] type(X): <class 'pandas.core.frame.DataFrame'>, shape: (1600, 1)\n",
      "[DEBUG] type(X): <class 'pandas.core.frame.DataFrame'>, shape: (400, 1)\n"
     ]
    },
    {
     "name": "stderr",
     "output_type": "stream",
     "text": [
      "/opt/anaconda3/envs/CSB320/lib/python3.9/site-packages/sklearn/pipeline.py:62: FutureWarning: This Pipeline instance is not fitted yet. Call 'fit' with appropriate arguments before using other methods such as transform, predict, etc. This will raise an error in 1.8 instead of the current warning.\n",
      "  warnings.warn(\n"
     ]
    },
    {
     "name": "stdout",
     "output_type": "stream",
     "text": [
      "[DEBUG] type(X): <class 'pandas.core.frame.DataFrame'>, shape: (400, 1)\n"
     ]
    },
    {
     "name": "stderr",
     "output_type": "stream",
     "text": [
      "/opt/anaconda3/envs/CSB320/lib/python3.9/site-packages/sklearn/pipeline.py:62: FutureWarning: This Pipeline instance is not fitted yet. Call 'fit' with appropriate arguments before using other methods such as transform, predict, etc. This will raise an error in 1.8 instead of the current warning.\n",
      "  warnings.warn(\n"
     ]
    },
    {
     "name": "stdout",
     "output_type": "stream",
     "text": [
      "[DEBUG] type(X): <class 'pandas.core.frame.DataFrame'>, shape: (400, 1)\n"
     ]
    },
    {
     "name": "stderr",
     "output_type": "stream",
     "text": [
      "/opt/anaconda3/envs/CSB320/lib/python3.9/site-packages/sklearn/pipeline.py:62: FutureWarning: This Pipeline instance is not fitted yet. Call 'fit' with appropriate arguments before using other methods such as transform, predict, etc. This will raise an error in 1.8 instead of the current warning.\n",
      "  warnings.warn(\n"
     ]
    },
    {
     "name": "stdout",
     "output_type": "stream",
     "text": [
      "[DEBUG] type(X): <class 'pandas.core.frame.DataFrame'>, shape: (400, 1)\n",
      "[DEBUG] type(X): <class 'pandas.core.frame.DataFrame'>, shape: (400, 1)\n"
     ]
    },
    {
     "name": "stderr",
     "output_type": "stream",
     "text": [
      "/opt/anaconda3/envs/CSB320/lib/python3.9/site-packages/sklearn/pipeline.py:62: FutureWarning: This Pipeline instance is not fitted yet. Call 'fit' with appropriate arguments before using other methods such as transform, predict, etc. This will raise an error in 1.8 instead of the current warning.\n",
      "  warnings.warn(\n",
      "/opt/anaconda3/envs/CSB320/lib/python3.9/site-packages/sklearn/pipeline.py:62: FutureWarning: This Pipeline instance is not fitted yet. Call 'fit' with appropriate arguments before using other methods such as transform, predict, etc. This will raise an error in 1.8 instead of the current warning.\n",
      "  warnings.warn(\n"
     ]
    },
    {
     "name": "stdout",
     "output_type": "stream",
     "text": [
      "[DEBUG] type(X): <class 'pandas.core.frame.DataFrame'>, shape: (400, 1)\n"
     ]
    },
    {
     "name": "stderr",
     "output_type": "stream",
     "text": [
      "/opt/anaconda3/envs/CSB320/lib/python3.9/site-packages/sklearn/pipeline.py:62: FutureWarning: This Pipeline instance is not fitted yet. Call 'fit' with appropriate arguments before using other methods such as transform, predict, etc. This will raise an error in 1.8 instead of the current warning.\n",
      "  warnings.warn(\n"
     ]
    },
    {
     "name": "stdout",
     "output_type": "stream",
     "text": [
      "[DEBUG] type(X): <class 'pandas.core.frame.DataFrame'>, shape: (400, 1)\n"
     ]
    },
    {
     "name": "stderr",
     "output_type": "stream",
     "text": [
      "/opt/anaconda3/envs/CSB320/lib/python3.9/site-packages/sklearn/pipeline.py:62: FutureWarning: This Pipeline instance is not fitted yet. Call 'fit' with appropriate arguments before using other methods such as transform, predict, etc. This will raise an error in 1.8 instead of the current warning.\n",
      "  warnings.warn(\n"
     ]
    },
    {
     "name": "stdout",
     "output_type": "stream",
     "text": [
      "[DEBUG] type(X): <class 'pandas.core.frame.DataFrame'>, shape: (400, 1)\n"
     ]
    },
    {
     "name": "stderr",
     "output_type": "stream",
     "text": [
      "/opt/anaconda3/envs/CSB320/lib/python3.9/site-packages/sklearn/pipeline.py:62: FutureWarning: This Pipeline instance is not fitted yet. Call 'fit' with appropriate arguments before using other methods such as transform, predict, etc. This will raise an error in 1.8 instead of the current warning.\n",
      "  warnings.warn(\n"
     ]
    },
    {
     "name": "stdout",
     "output_type": "stream",
     "text": [
      "[DEBUG] type(X): <class 'pandas.core.frame.DataFrame'>, shape: (2000, 1)\n"
     ]
    }
   ],
   "source": [
    "with parallel_backend(\"threading\"):\n",
    "    grid_search_tfidf.fit(X_train, y_train)"
   ]
  },
  {
   "cell_type": "code",
   "execution_count": null,
   "id": "0bf5db2b",
   "metadata": {},
   "outputs": [
    {
     "name": "stdout",
     "output_type": "stream",
     "text": [
      "Report for:  TF-IDF sentiment anlysis, linear regression\n",
      "[DEBUG] type(X): <class 'pandas.core.frame.DataFrame'>, shape: (500, 1)\n",
      "              precision    recall  f1-score   support\n",
      "\n",
      "           0       1.00      1.00      1.00       252\n",
      "           1       1.00      1.00      1.00       248\n",
      "\n",
      "    accuracy                           1.00       500\n",
      "   macro avg       1.00      1.00      1.00       500\n",
      "weighted avg       1.00      1.00      1.00       500\n",
      "\n",
      "Confusion Matrix:\n",
      "[[252   0]\n",
      " [  1 247]]\n",
      "Best Parameters: {'process__tfidf__tfidf__max_df': 0.9, 'process__tfidf__tfidf__min_df': 0.05, 'process__tfidf__tfidf__ngram_range': (1, 1)}\n",
      "F1 Score of Best Model: 99.68 %\n"
     ]
    },
    {
     "name": "stderr",
     "output_type": "stream",
     "text": [
      "/opt/anaconda3/envs/CSB320/lib/python3.9/site-packages/sklearn/pipeline.py:62: FutureWarning: This Pipeline instance is not fitted yet. Call 'fit' with appropriate arguments before using other methods such as transform, predict, etc. This will raise an error in 1.8 instead of the current warning.\n",
      "  warnings.warn(\n"
     ]
    }
   ],
   "source": [
    "grid_search_report(\n",
    "    \"TF-IDF sentiment anlysis, linear regression\",\n",
    "    \"F1\",\n",
    "    grid_search_tfidf,\n",
    "    X_test,\n",
    "    y_test,\n",
    ")"
   ]
  },
  {
   "cell_type": "code",
   "execution_count": null,
   "id": "13294818",
   "metadata": {},
   "outputs": [],
   "source": []
  }
 ],
 "metadata": {
  "kernelspec": {
   "display_name": "CSB320",
   "language": "python",
   "name": "python3"
  },
  "language_info": {
   "codemirror_mode": {
    "name": "ipython",
    "version": 3
   },
   "file_extension": ".py",
   "mimetype": "text/x-python",
   "name": "python",
   "nbconvert_exporter": "python",
   "pygments_lexer": "ipython3",
   "version": "3.9.22"
  }
 },
 "nbformat": 4,
 "nbformat_minor": 5
}
