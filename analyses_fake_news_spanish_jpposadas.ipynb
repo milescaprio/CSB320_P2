{
 "cells": [
  {
   "cell_type": "markdown",
   "id": "837e2995",
   "metadata": {},
   "source": [
    "TODO: confirm FALSE->FAKE mapping is correct (swap to test)\n",
    "\n",
    "TODO: try to use cuml environment\n",
    "\n",
    "TODO: Learn and implement Random Forest\n",
    "\n",
    "Data From: https://github.com/jpposadas/FakeNewsCorpusSpanish/\n",
    "\n",
    "(spanish_fake_news_1.csv from train.csv; spanish_fake_news_2.csv from test.csv: manually created union to repartition)"
   ]
  },
  {
   "cell_type": "code",
   "execution_count": null,
   "id": "56905dff",
   "metadata": {},
   "outputs": [],
   "source": [
    "%load_ext autoreload\n",
    "%autoreload 2\n",
    "%load_ext jupyter_black"
   ]
  },
  {
   "cell_type": "code",
   "execution_count": 2,
   "id": "203c0d04",
   "metadata": {},
   "outputs": [],
   "source": [
    "from lib import *\n",
    "from NLP_algorithms import *"
   ]
  },
  {
   "cell_type": "code",
   "execution_count": 3,
   "id": "33696278",
   "metadata": {},
   "outputs": [
    {
     "name": "stderr",
     "output_type": "stream",
     "text": [
      "/var/folders/tp/3nd20r2x6ns2txnn5kmx15dr0000gn/T/ipykernel_93062/1480579410.py:17: FutureWarning: Downcasting behavior in `replace` is deprecated and will be removed in a future version. To retain the old behavior, explicitly call `result.infer_objects(copy=False)`. To opt-in to the future behavior, set `pd.set_option('future.no_silent_downcasting', True)`\n",
      "  spanish_fake_news['Category'] = spanish_fake_news['Category'].replace({'Fake': 1, 'True': 0})\n"
     ]
    },
    {
     "data": {
      "application/vnd.microsoft.datawrangler.viewer.v0+json": {
       "columns": [
        {
         "name": "index",
         "rawType": "int64",
         "type": "integer"
        },
        {
         "name": "Id",
         "rawType": "int64",
         "type": "integer"
        },
        {
         "name": "Category",
         "rawType": "int64",
         "type": "integer"
        },
        {
         "name": "Topic",
         "rawType": "object",
         "type": "string"
        },
        {
         "name": "Source",
         "rawType": "object",
         "type": "string"
        },
        {
         "name": "Headline",
         "rawType": "object",
         "type": "string"
        },
        {
         "name": "Text",
         "rawType": "object",
         "type": "string"
        },
        {
         "name": "Link",
         "rawType": "object",
         "type": "string"
        }
       ],
       "ref": "55ff32bc-ecb2-45d9-abc0-7e1567743ead",
       "rows": [
        [
         "0",
         "1",
         "1",
         "Education",
         "El Ruinaversal",
         "RAE INCLUIRÁ LA PALABRA \"LADY\" EN EL DICCIONARIO DEL IDIOMA ESPAÑOL COMO DEFINICIÓN DE \"MUJER PROBLEMÁTICA\"",
         "RAE INCLUIRÁ LA PALABRA \"LADY\" EN EL DICCIONARIO DEL IDIOMA ESPAÑOL COMO DEFINICIÓN DE \"MUJER PROBLEMÁTICA\"\nEspaña.- El presidente de la Real Academia Española (RAE), Darío Villanueva, informó en conferencia de prensa que a partir del próximo mes se incluirá el término \"Lady\" como una nueva palabra en el diccionario del idioma español.\nDarío señaló que \"Lady\" servirá para definir a una \"mujer problemática\" o a una \"mujer que causa problemas\", y mencionó que esta palabra será una de las pocas que también se utilizan en el idioma inglés pero que en castellano tiene un significado diferente:\n\"Son contadas las palabras del idioma inglés que se utilizan en el español pero que tienen otro significado. Con la globalización las personas han comenzado a adoptar términos anglosajones pero los utilizan con su significado real, sin embargo en este caso la expresión Lady no significará lo mismo que en su idioma original (\"dama\" en inglés) sino que se usará para definir a una mujer que es problemática o acostumbra causar problemas y alborotos.\nLa gente podrá decirle Lady a una fémina que cause algún escándalo, sea agresiva o provoque algún tipo de problema. El término dejara de considerarse una palabra exclusiva del idioma inglés ya que tras se incluida en el diccionario de la lengua española también pasara ser una palabra oficial del castellano, pero con un significado distinto\", confesó.\nVillanueva presentó a los medios la definición oficial que aparecerá en los diccionarios, señalando que será la siguiente:\n-Lady\nDel anglosajón Ænglisc, part. de Difficilis 'problematica', ferox 'agresiva'\n*NUMBER*.- adj. f. Mujer excesivamente problemática\n*NUMBER*.- adj. f. Mujer que causa problemas o alborotos\n*NUMBER*.- adj. f. Mujer que tiende a causar conflictos, es agresiva\nTe puede interesar Cholas descubren que las Donitas Bimbo también se pueden comer y no solo sirven para maquillarse\n*NUMBER*.- adj. f. Mujer que se guía por sus instintos animales, que no le importa crear conflictos\nEl presidente señaló que fue uno de los miembros mexicanos de la RAE quien propuso incluir la palabra, y tras meses de análisis finamente fue aceptada por el comité:\n\"Es una término que tuvo su origen en México pero se usará en todos los países de habla hispana. Los videos de las Lady´s que han circulado nos sirvieron para crear una perfecta definición, la cual servirá para resumir y definir a una hembra problemática\", dijo\nPor último, Darío reveló que también ya se encuentran analizando la idea de incluir el término Lord en el diccionario, que sería el equivalente a la definición masculina de Lady.",
         "http://www.elruinaversal.com/2017/06/10/rae-incluira-la-palabra-lady-en-el-diccionario-del-idioma-espanol-como-definicion-de-mujer-problematica/"
        ],
        [
         "1",
         "2",
         "1",
         "Education",
         "Hay noticia",
         "La palabra \"haiga\", aceptada por la RAE",
         "La palabra \"haiga\", aceptada por la RAE La Real Academia de la Lengua (RAE), ha aceptado el uso de \"HAIGA\", para su utilización en las tres personas del singular del presente del subjuntivo del verbo hacer, aunque asegura que la forma más recomendable en la lengua culta para este tiempo, sigue siendo \"haya\".\nAsí lo han confirmado fuentes de la RAE, que explican que este cambio ha sido propuesto y aprobado por el pleno de la Academia de la Lengua, tras la extendida utilización por todo el territorio nacional, sobre todo, empleado por personas carentes de estudios o con estudios básicos de graduado escolar. Ya no será objeto de burla ese compañero que a diario repite aquello de \"Mientras que haiga faena, no podemos quejarnos\" o esa abuela que repite aquello de \"El que haiga sacao los juguetes, que los recoja\".\nEntre otras palabras novedosas que ha aceptado la RAE, contamos también con \"Descambiar\", significa deshacer un cambio, por ejemplo \"devolver la compra\". Visto lo visto, nadie apostaría que la palabra \"follamigos\" sea la siguiente de la lista.",
         "https://haynoticia.es/la-palabra-haiga-aceptada-la-rae9999/"
        ],
        [
         "2",
         "3",
         "1",
         "Education",
         "El Ruinaversal",
         "YORDI ROSADO ESCRIBIRÁ Y DISEÑARÁ LOS NUEVOS LIBROS DE TEXTO DE LA SEP PARA HACERLOS MÁS ATRACTIVOS",
         "YORDI ROSADO ESCRIBIRÁ Y DISEÑARÁ LOS NUEVOS LIBROS DE TEXTO DE LA SEP PARA HACERLOS MÁS ATRACTIVOS\nMéxico.- El director de la Secretaría de Educación Pública, Aurelio Nuño, informó que el dramaturgo y conductor Yordi Rosado será el encargado de redactar los nuevos libros de texto que se reparten en todas las escuelas del país, y que a partir del próximo ciclo escolar dejarán de ser gratuitos y tendrán costo.\nAurelio señala que decidió contratar a Yordi para escribir los manuales con el fin de hacer \"más atractivos los textos\" y que los alumnos se interesen más por aprender, por lo que los libros dejarán de tener un lenguaje aburrido y serán presentados con un idioma \"más fresco, juvenil y moderno\":\n\"Desafortunadamente el gobierno ya no tiene los recursos para seguir regalando los libros, por lo que a partir del próximo ciclo escolar los padres de familia deberán hacer un pequeño sacrificio y pagar una módica cantidad para que sus hijos puedan seguir aprendiendo. Realmente es algo simbólico, cada libro costará solo USD*NUMBER* pesitos, es un precio muy bajo si tenemos en cuenta que con esto los niños podrán forjarse un futuro. Decidimos contratar a Rosado porque queríamos hacer libros de calidad, que fueran atractivos para las nueva generaciones\", dijo,\nNuño menciona que el conductor explicará a los estudiantes las materias de matemáticas, historia, geografía, español\", y otros temas, en un idioma más alegre y jocoso para hacer más disfrutable el aprendizaje:\n\"Queremos que los niños lleguen a sus casas y abran gustosos sus libros de texto en vez de que se aburran al hojearlos. ¿Qué ondiux con las matemáticas?, será el ejemplar de matemáticas, ¿Qué pex con el spanish?, será la edición para español. Cada texto será redactado de forma atractiva y tendrá padrísimos dibujos e ilustraciones diseñadas por el mismo Rosado\", comentó.\nEl director menciona que Yordi redactará los libros de primaria, secundaria y prepa: \"él domina muy bien el lenguaje de los adolescentes, pre adolescentes y niños. Realmente hizo una labor de investigación muy grande para entender y dominar a la perfección el lenguaje de las nuevas generaciones, los estudiantes definitivamente van a disfrutar los textos y se van a identificar con el idioma juvenil. Rosado respetó los contenidos sin alterarlos pero logró convertirlos al lenguaje de la chaviza, hasta yo que ya estoy grande me quedé picado al leerlos, la neta están padrísimos\", puntualizó riendo el director.",
         "http://www.elruinaversal.com/2018/05/06/yordi-rosado-escribira-y-disenara-los-nuevos-libros-de-texto-de-la-sep-para-hacerlos-mas-atractivos/"
        ],
        [
         "3",
         "4",
         "0",
         "Education",
         "EL UNIVERSAL",
         "UNAM capacitará a maestros para aprobar prueba Pisa",
         "UNAM capacitará a maestros para aprobar prueba Pisa\nLa máxima casa de estudios y la SEP firmaron cinco convenios para que las facultades de Ciencias y Química, así como el Instituto de Matemáticas de enseñen a los profesores estrategias para impartir estas disciplinas a los alumnos de preescolar, primaria, secundaria\nLa Universidad Nacional Autónoma de México (UNAM) capacitará a profesores de educación obligatoria en matemáticas, ciencias y lectura en la enseñanza de estas materias en las escuelas públicas ante la necesidad de mejorar los resultados de México en las pruebas internacionales de aprovechamiento escolar, como PISA.\n Durante la firma de un convenio general y cuatro específicos de colaboración entre la Universidad Nacional y la Secretaría de Educación Pública (SEP), el rector Enrique Graue Wiechers señaló que uno de los objetivos de estos instrumentos será que las facultades de Ciencias y Química, así como el Instituto de Matemáticas de la máxima casa de estudios colaboren con la dependencia federal para ofrecer cursos de capacitación a los maestros mexicanos.",
         "http://www.eluniversal.com.mx/articulo/nacion/sociedad/2017/02/8/unam-capacitara-maestros-para-aprobar-prueba-pisa"
        ],
        [
         "4",
         "5",
         "1",
         "Education",
         "Lamula",
         "pretenden aprobar libros escolares con contenido sesgado sobre el conflicto armado interno",
         "Alerta: pretenden aprobar libros escolares con contenido sesgado sobre el conflicto armado interno\nSigue la campaña negacionista del fujimorismo. Otra vez desde el Congreso, la bancada Fuerza Popular (FP) presionó para que se revisen los textos escolares y sus contenidos sobre la época del terrorismo, según denuncia la Coordinadora Nacional de Derechos Humanos (Cnddhh).\nDe acuerdo a esta organización, el Ministerio de Educación (Minedu) estaría a punto de aprobar libros de primero, segundo y tercero de secundaria con contenidos sesgados sobre el periodo del conflicto armado interno, faltando así a la verdad y a la memoria de los cientos de miles de víctimas de la violencia y el terror desatadas entre los años *NUMBER* y *NUMBER* en Perú.\nLa Cnddhh denunció que esto sería el resultado de un convenio suscrito, en setiembre del *NUMBER*, entre el entonces ministro de Educación, Idel Vexler, y el presidente del Congreso, el fujimorista Luis Galarreta, para la conformación de una comisión que incluía a personajes como el exvicepresidente de Alberto Fujimori, Francisco Tudela, y el vicealmirante en retiro, implicado en la matanza de El Frontón, Luis Giampietri.\nEn este proceso de revisión, se habrían realizado talleres en los que participaron congresistas y asesores de FP y miembros en retiro de las Fuerzas Armadas, en lugar de instituciones y especialistas expertos en asuntos pedagógicos y derechos humanos. En este sentido, la Cnddhh advirtió que esta es una modalidad de injerencia del Congreso en competencias que corresponden al Poder Ejecutivo.\nLa Cnddhh sostuvo que esto tiene la finalidad de negar los hechos ocurridos, así como \"las responsabilidades de los distintos actores que cometieron graves crímenes contra la humanidad y sometieron al país al miedo y al terror, incluyendo la responsabilidad del propio Estado\". Este es el pronunciamiento de la Cnddhh:\nSOBRE EL MINEDU Y LOS TEXTOS ESCOLARES:\nLAS POLÍTICAS EDUCATIVAS NO PUEDEN DESCONOCER EL PASADO DEL PAÍS\nPronunciamiento\nLa Coordinadora Nacional de Derechos Humanos (CNDDHH), frente a la propuesta del Ministerio de Educación (MINEDU) de contenidos para la enseñanza sobre el terrorismo en el Perú en los textos escolares, que se pretenden validar e imprimir con extrema celeridad, señala y alerta a la ciudadanía con carácter de urgencia sobre lo siguiente:\n*NUMBER*. El actual Congreso de la República y su mayoría vienen ejerciendo presiones sobre el poder ejecutivo y demás entidades del Estado para favorecer sus intereses particulares, que resultan lesivos al país y sus mayorías ciudadanas. En este contexto, ha desplegado una agresiva campaña que pretende negar una visión comprehensiva del período del conflicto armado interno (CAI), así como las responsabilidades de los distintos actores que cometieron graves crímenes contra la humanidad y sometieron al país al miedo y al terror, incluyendo la responsabilidad del propio Estado.\n*NUMBER*. La campaña del negacionismo se ha propuesto imponer a través del MINEDU una visión sesgada de la historia y de los hechos del CAI, afectando así el derecho a la verdad que tiene la ciudadanía, en particular las niñas, niños y adolescentes en formación escolar. Para ello, el *NUMBER* de septiembre del *NUMBER* el Congreso y el MINEDU suscribieron un convenio para \"reforzar la educación cívica y democrática en los colegios\" y anunciaron la conformación de una \"Comisión\" para este fin. Abriendo así una peligrosa puerta para la injerencia del Congreso sobre competencias que corresponden al gobierno.\n*NUMBER*. En esta orientación, la actual gestión del MINEDU ha realizado tres (*NUMBER*) talleres de consulta para validar los contenidos de los textos escolares, priorizando la participación de congresistas y asesores de Fuerza Popular y la de miembros en situación de retiro de las FFAA. El proceso de validación adquiere así un carácter político que se impone sobre los criterios técnico, pedagógico y especializado que deben garantizar el derecho a la educación. Este proceso omite además criterios metodológicos claros, así como la participación amplia de especialistas en la materia.\n*NUMBER*. La política educativa del país debe ser leal a nuestra historia reciente, a los principios democráticos y al respeto profundo a los derechos fundamentales de las personas. Como lo advierte el Consejo de Derechos Humanos de las Naciones Unidas, en su estrategia global para hacer frente a las condiciones que propician la propagación del terrorismo, las \"medidas eficaces contra el terrorismo y la protección de los derechos humanos no son objetivos contrapuestos\".\n*NUMBER*. El derecho a la verdad es un derecho fundamental individual y colectivo reconocido por nuestro Tribunal Constitucional y la Corte Interamericana de Derechos Humanos, que exige a los Estados promover en sus políticas, más aún de educación, objetividad sobre qué pasó en el país y cuáles fueron sus causas. En este sentido, el MINEDU no puede someterse a las presiones del Congreso y menos hacerse cómplice del negacionismo.\nBajo estas consideraciones, la CNDDHH exhorta al MINEDU y exige al Estado peruano a promover un diálogo amplio y abierto sobre los contenidos y fines de los mencionados textos escolares, conducente a garantizar a las futuras generaciones el derecho a una política educativa y de memoria que respete los principios democráticos y el derecho fundamental a la verdad.",
         "https://redaccion.lamula.pe/2018/06/19/memoria-derechos-humanos-conflicto-armado-interno-peru-ministerio-educacion-libros-secundaria-cnddhh/jorgepaucar/"
        ]
       ],
       "shape": {
        "columns": 7,
        "rows": 5
       }
      },
      "text/html": [
       "<div>\n",
       "<style scoped>\n",
       "    .dataframe tbody tr th:only-of-type {\n",
       "        vertical-align: middle;\n",
       "    }\n",
       "\n",
       "    .dataframe tbody tr th {\n",
       "        vertical-align: top;\n",
       "    }\n",
       "\n",
       "    .dataframe thead th {\n",
       "        text-align: right;\n",
       "    }\n",
       "</style>\n",
       "<table border=\"1\" class=\"dataframe\">\n",
       "  <thead>\n",
       "    <tr style=\"text-align: right;\">\n",
       "      <th></th>\n",
       "      <th>Id</th>\n",
       "      <th>Category</th>\n",
       "      <th>Topic</th>\n",
       "      <th>Source</th>\n",
       "      <th>Headline</th>\n",
       "      <th>Text</th>\n",
       "      <th>Link</th>\n",
       "    </tr>\n",
       "  </thead>\n",
       "  <tbody>\n",
       "    <tr>\n",
       "      <th>0</th>\n",
       "      <td>1</td>\n",
       "      <td>1</td>\n",
       "      <td>Education</td>\n",
       "      <td>El Ruinaversal</td>\n",
       "      <td>RAE INCLUIRÁ LA PALABRA \"LADY\" EN EL DICCIONAR...</td>\n",
       "      <td>RAE INCLUIRÁ LA PALABRA \"LADY\" EN EL DICCIONAR...</td>\n",
       "      <td>http://www.elruinaversal.com/2017/06/10/rae-in...</td>\n",
       "    </tr>\n",
       "    <tr>\n",
       "      <th>1</th>\n",
       "      <td>2</td>\n",
       "      <td>1</td>\n",
       "      <td>Education</td>\n",
       "      <td>Hay noticia</td>\n",
       "      <td>La palabra \"haiga\", aceptada por la RAE</td>\n",
       "      <td>La palabra \"haiga\", aceptada por la RAE La Rea...</td>\n",
       "      <td>https://haynoticia.es/la-palabra-haiga-aceptad...</td>\n",
       "    </tr>\n",
       "    <tr>\n",
       "      <th>2</th>\n",
       "      <td>3</td>\n",
       "      <td>1</td>\n",
       "      <td>Education</td>\n",
       "      <td>El Ruinaversal</td>\n",
       "      <td>YORDI ROSADO ESCRIBIRÁ Y DISEÑARÁ LOS NUEVOS L...</td>\n",
       "      <td>YORDI ROSADO ESCRIBIRÁ Y DISEÑARÁ LOS NUEVOS L...</td>\n",
       "      <td>http://www.elruinaversal.com/2018/05/06/yordi-...</td>\n",
       "    </tr>\n",
       "    <tr>\n",
       "      <th>3</th>\n",
       "      <td>4</td>\n",
       "      <td>0</td>\n",
       "      <td>Education</td>\n",
       "      <td>EL UNIVERSAL</td>\n",
       "      <td>UNAM capacitará a maestros para aprobar prueba...</td>\n",
       "      <td>UNAM capacitará a maestros para aprobar prueba...</td>\n",
       "      <td>http://www.eluniversal.com.mx/articulo/nacion/...</td>\n",
       "    </tr>\n",
       "    <tr>\n",
       "      <th>4</th>\n",
       "      <td>5</td>\n",
       "      <td>1</td>\n",
       "      <td>Education</td>\n",
       "      <td>Lamula</td>\n",
       "      <td>pretenden aprobar libros escolares con conteni...</td>\n",
       "      <td>Alerta: pretenden aprobar libros escolares con...</td>\n",
       "      <td>https://redaccion.lamula.pe/2018/06/19/memoria...</td>\n",
       "    </tr>\n",
       "  </tbody>\n",
       "</table>\n",
       "</div>"
      ],
      "text/plain": [
       "   Id  Category      Topic          Source  \\\n",
       "0   1         1  Education  El Ruinaversal   \n",
       "1   2         1  Education     Hay noticia   \n",
       "2   3         1  Education  El Ruinaversal   \n",
       "3   4         0  Education    EL UNIVERSAL   \n",
       "4   5         1  Education          Lamula   \n",
       "\n",
       "                                            Headline  \\\n",
       "0  RAE INCLUIRÁ LA PALABRA \"LADY\" EN EL DICCIONAR...   \n",
       "1            La palabra \"haiga\", aceptada por la RAE   \n",
       "2  YORDI ROSADO ESCRIBIRÁ Y DISEÑARÁ LOS NUEVOS L...   \n",
       "3  UNAM capacitará a maestros para aprobar prueba...   \n",
       "4  pretenden aprobar libros escolares con conteni...   \n",
       "\n",
       "                                                Text  \\\n",
       "0  RAE INCLUIRÁ LA PALABRA \"LADY\" EN EL DICCIONAR...   \n",
       "1  La palabra \"haiga\", aceptada por la RAE La Rea...   \n",
       "2  YORDI ROSADO ESCRIBIRÁ Y DISEÑARÁ LOS NUEVOS L...   \n",
       "3  UNAM capacitará a maestros para aprobar prueba...   \n",
       "4  Alerta: pretenden aprobar libros escolares con...   \n",
       "\n",
       "                                                Link  \n",
       "0  http://www.elruinaversal.com/2017/06/10/rae-in...  \n",
       "1  https://haynoticia.es/la-palabra-haiga-aceptad...  \n",
       "2  http://www.elruinaversal.com/2018/05/06/yordi-...  \n",
       "3  http://www.eluniversal.com.mx/articulo/nacion/...  \n",
       "4  https://redaccion.lamula.pe/2018/06/19/memoria...  "
      ]
     },
     "metadata": {},
     "output_type": "display_data"
    },
    {
     "data": {
      "application/vnd.microsoft.datawrangler.viewer.v0+json": {
       "columns": [
        {
         "name": "index",
         "rawType": "int64",
         "type": "integer"
        },
        {
         "name": "Id",
         "rawType": "int64",
         "type": "integer"
        },
        {
         "name": "Category",
         "rawType": "int64",
         "type": "integer"
        },
        {
         "name": "Topic",
         "rawType": "object",
         "type": "string"
        },
        {
         "name": "Source",
         "rawType": "object",
         "type": "string"
        },
        {
         "name": "Headline",
         "rawType": "object",
         "type": "unknown"
        },
        {
         "name": "Text",
         "rawType": "object",
         "type": "string"
        },
        {
         "name": "Link",
         "rawType": "object",
         "type": "string"
        }
       ],
       "ref": "916c9e91-80c4-4061-bd83-a82559215c5b",
       "rows": [
        [
         "1243",
         "568",
         "0",
         "Covid-19",
         "El Financiero",
         "Encuentran nueva variante de COVID en México: está en 80% de casos y tiene mayor transmisión",
         "El Instituto de Diagnóstico y Referencia Epidemiológicos (Indre) informó este jueves que se halló una variante de COVID-19 que es la que, en las últimas semanas, se ha identificado con mayor frecuencia en el país, con un porcentaje que llega hasta el 80 por ciento.\n\nEn conferencia de prensa, José Ernesto Ramírez González, titular de la Unidad de Desarrollo Tecnológico e Investigación Molecular del Indre, detalló que la variante, identificada como B.1.1.222, tiene dos mutaciones importantes, las cuales la podrían hacer más transmisible.\n\"Su principal impacto es que ha aumentado su distribución. El 80 por ciento de los casos identificados se presenta esta mutación. Seguramente tiene una mayor transmisibilidad\", mencionó.\n\n\"Son mutaciones importantes y no las podemos dejar de lado\".\n\nRamírez González expuso que los primeros casos detectados de esta variante datan de octubre del 2020.\n\nNo obstante, conforme fueron avanzando las semanas, se halló que las variantes que habían sido predominantes en México en el primer año de la pandemia comenzaron a ser desplazadas, en los análisis genómicos, por esta nueva variante.\n\nAlgo similar a lo que pasó con las variantes que se identificaron primero en países como Reino Unido, Brasil y Sudáfrica.\n\n\"Nos dimos cuenta que iban incrementando en su frecuencia de identificación en estos países\", aseveró.\n\n\"Y este efecto lo estamos observando nosotros en esta variante que estamos encontrando, que estamos reportando en este momento\".\n\nEl funcionario expuso que no es correcto llamarle a esta nueva variante como \"variante mexicana\", de la misma forma en la que no es correcto llamarle a otras variantes por nombres de países.\n\n\"No es correcto nombrarlas variantes brasileñas, tienen un nombre específico, de momento no es adecuado, porque no sólo circula en nuestro país, este linaje con esta mutación se ha hallado en Canadá, en Estados Unidos...\", comentó.\n\n\"No es adecuado por el momento llamarle variante mexicana\"",
         "https://www.elfinanciero.com.mx/salud/encuentran-nueva-variante-de-covid-en-mexico-esta-en-80-de-casos-y-tiene-mayor-transmision"
        ],
        [
         "1244",
         "569",
         "1",
         "Sociedad",
         "diariogol",
         "El móvil de más de 60.000 euros de la princesa Leonor del que habla media España",
         "La hija del rey Felipe y de la reina Letizia y el lujo que arrasa en las redes sociales. La princesa Leonor está empezando a comprobar cómo, a medida que se va haciendo mayor, su repercusión en los medios también va creciendo. Si bien es cierto que, a excepción del mensaje que ella y su hermana Sofía colgado en las redes sociales de la Casa Real hace unos días, su presencia pública ha caído en picado durante esta crisis del coronavirus, la futura reina de España ya empieza a asomar la cabeza.\n\nY eso, como bien saben sus padres, no es siempre positivo. Es evidente que, a diferencia de lo que ocurre con Letizia y Felipe, las críticas hacia Leonor son muchos menores. Pero eso no implica que no las haya. Y en los últimos días éstas se han acentuado en las redes sociales. Entre otras cosas porque, en un nuevo ejercicio de transparencia, la Casa Real ha hecho públicos algunos de los gastos de los últimos meses. \n\nGracias a ello, se ha podido saber que Letizia optó por gastarse, ojo, 132.000 euros en “máquinas expendedoras de bebidas calientes, frías y alimentos”, o que la Casa Real se gastó más de 37.000 euros en el cátering del Día de la Hispanidad, tal y como apuntan en Vanitatis.\n\nSin embargo, otro de los gastos que ha llamado especialmente la atención de muchos ha sido el relacionado con las telecomunicaciones de la Familia Real. Y es que, según el citado medio, la Casa Real se gastó ni más ni menos que 60.500 euros en un servicio de telefonía móvil en el que la seguridad, obviamente, ha sido lo primordial. Los teléfonos de Felipe, Letizia y sus hijas no tiene precisamente el mismo régimen de seguridad que el que tienen el de la gran mayoría de ciudadanos. De ahí su alto coste. El riesgo de que un hacker entre y pueda sacar información de ellos es más que alto. Por otro lado, los sistemas de videoconferencia a través de Wifi con los que los reyes trabajan desde hace semanas ha costado, según el citado medio, 78.659 euros. Cantidades, para muchos, más que desproporcionadas. ",
         "https://www.diariogol.com/gossip/el-movil-de-mas-de-60-000-euros-de-la-princesa-leonor-del-que-habla-media-espana_20062794_102.html"
        ],
        [
         "1245",
         "570",
         "1",
         "Política",
         "AFPFactual",
         null,
         "Evidentemente, Barak Obama ha sido arrestado en Hawai y acusado de espionaje según un anuncio del Fiscal General Adjunto para la Seguridad Nacional, John C. Demers, el sábado 28 de noviembre.\n\nEse mismo día el ex vicepresidente de Obama, Joe Biden, comenzó a usar una bota que podía ocultar una ‘tobillera electrónica’, aunque afirmó que la bota se debía a una lesión de tobillo. Hace dos semanas la directora de la CIA, Gina Haspel, fue capturada y detenida bajo cargos de fraude electoral, y se dice que está confesando todo sobre Obama y Biden. \nSe sospechaba que Obama, Biden y Haspel estaban confabulando con potencias extranjeras, incluido el Partido Comunista Chino (PCCh), además de promover el uso del fraude electoral, para poner en el poder a los socialistas Biden-Harris, y tomar el gobierno de los EE. UU. estableciendo Nuevo Orden Mundial.\n\nLa denuncia sobre Obama alegó que el ex presidente de EE.UU. comprometió la seguridad de EE.UU. al conspirar con un socio comercial y ex agente de la CIA para proporcionar información clasificada del gobierno de EE.UU. a altos funcionarios de inteligencia chinos en la República Popular China (RPC).\nSe informó que Biden estaba bajo arresto domiciliario por comprometer la seguridad de EE.UU. al conspirar con una potencia extranjera para interferir en una elección de EE.UU. Aunque, Biden fue bastante franco sobre su fraude electoral en la televisión nacional y dijo justo antes de las elecciones que había «compilado la organización de fraude electoral más extensa en la historia de la política». \nSe dijo que el computador portátil del hijo de Biden, Hunter, contiene pruebas de que Biden estaba comprometido, al haber aceptado millones de dólares de China, Ucrania y otros países durante sus años en el cargo público, incluidos sus ocho años de servicio como vicepresidente de los Estados Unidos.\n\nUn informe del domingo, el 22 de noviembre mostró que Joe Biden robó 140 millones de dólares del Tesoro de los EE.UU. y los transfirió a su cuenta personal en las Islas Caimán: https://twitter.com/MzMugzzi\n\n«El informe muestra que Joe Biden robó 140 millones de dólares del Tesoro Federal de los EE.UU. y los transfirió a Rosemont Séneca, supuestamente para rescates bancarios y luego a su cuenta personal en las Islas Caimán».\n\nMeses antes de las elecciones, Ucrania había emitido una orden de arresto contra Biden por sus tratos allí, Noticia que, como todo lo demás relacionado con la Cabal demócrata, nunca llegaron a ser titulares de los medios de comunicación izquierdistas.\n\nSe dijo que los supuestos arrestos de Haspel, Obama y Biden estaban conectados a una extensa investigación de los temas de fraude electoral masivo centrada en los servidores de Dominion Company y las elecciones presidenciales de 2020 que Biden afirmó haber ganado.\n\nEl 7 de noviembre, el sábado después de las elecciones, la directora de la CIA, Gina Haspel, fue capturada y detenida por fraude electoral. Fue herida por las fuerzas de la US Operación Especial que allanaron un sitio de una granja de servidores de la CIA en Frankfurt, Alemania. Desafortunadamente cinco soldados estadounidenses y uno de los mercenarios de la CIA murieron en el tiroteo.\n\nSe dice que Haspel -evidentemente en Frankfurt para proteger los datos del servidor que incriminaría a los líderes del Estado Profundo como Obama y Biden- estaba cooperando para disminuir su propia sentencia y revelando información sobre una extensa estafa de fraude electoral perpetrada por los demócratas en las elecciones de 2020.\n\nLa redada militar capturó los servidores de votación de Dominion, que se descubrió que habían cambiado los votos de Trump a Biden desde sus ubicaciones en Alemania, Canadá y España. Las incursiones simultáneas tuvieron lugar en Toronto (sede de Dominion Voting System) y Barcelona, España (otra sede de servidores Scytl de la CIA utilizada para cambiar votos en el fraude electoral).\n\nAunque nunca oirías hablar de ello en los medios de comunicación actuales, es obvio que existen las conexiones. George Soros era el jefe de la junta directiva de Dominion. Desde las elecciones del 3 de noviembre, una gran cantidad de evidencia ha aparecido en torno a las máquinas de votación de Dominion, propiedad de George Soros y desarrolladas por la CIA, que tabularon los resultados de las elecciones de EE.UU. La tabulación se hizo en servidores fácilmente comprometidos en Alemania, Canadá y España que estaban conectados a Internet. Se dice que los programas de Dominion fueron diseñados para tirar millones de votos de Trump a Biden.\n\nEn 2002-2004, el dictador Hugo Chávez y oficiales militares venezolanos tomaron prestado de la CIA un software de algoritmo de cambio de votos de la aplicación Hammer Supercomputer Scorecard en máquinas Dominion para ser utilizado en el software de cambio de votos Smartmatic. Smartmatic fue  desarrollado en Venezuela por el dictador Hugo Chávez y oficiales militares venezolanos para amañar las elecciones.\n\nEl sábado, el 28 de noviembre por la mañana, la demanda penal de Obama fue desclasificada el Fiscal de los Estados Unidos para el Distrito de Hawai, Kenji M. Price, el Director Adjunto de la División de Contrainteligencia del FBI, Alan E. Kohler Jr. y el Agente Especial a cargo de la Oficina de Campo del FBI en Honolulu, Eli S. Miranda.\n\nUn juez impuso un «apagón mediático» en los Estados Unidos sobre las Noticia relativas al arresto, pero los medios de comunicación canadienses como el Conservative Beaver y un par de periódicos de habla hispana no se han sometido a esas normas y han informado sobre el arresto de alto perfil.\n\nBajo la dirección del General Michael Flynn, los arrestos masivos continuaron en más de 209.000 acusaciones selladas presentadas en los tribunales federales de todo el país desde que el presidente Trump asumió el cargo. El miércoles, 25 de noviembre, Flynn comenzó a ejecutar arrestos de alto nivel en el extranjero y, en la actualidad, persigue a los pedófilos en los Países Bajos -la sede del Nuevo Orden Mundial y del Consejo de Relaciones Exteriores- donde recientemente, muchos aviones se han estrellado misteriosamente. Henry Kissinger y otros han sido expulsados del Consejo de Relaciones Exteriores.\n\nLos vuelos militares estaban por todos los EE.UU. Se dijo que cientos de actores traidores estaban siendo extraídos, puestos en los vuelos e interrogados hasta que cambiaron de postura, con énfasis en la búsqueda de pruebas de fraude electoral. Estos vuelos militares se incrementaban en preparación para una posible violencia antifa y la seguridad.\n\nDurante años, el Partido Demócrata y algunas elites políticas republicanas aparentemente han estado trabajando en cooperación con el Partido Comunista chino y otros para derrocar al gobierno de los EE.UU. y establecer un Nuevo Orden Mundial. Trump y los Sombreros Blancos de la Alianza establecieron la Elección Presidencial del 2020 como un golpe para atrapar a estos malos en la traición – con la inteligencia reunida por «El Kraken».\n\nEl Kraken era el apodo del cuerpo de Inteligencia Militar del 305º Batallón ubicado en el Fuerte Huachuca, Arizona. Proporcionaba guerra electrónica e inteligencia de señales (SIGINT). El 305º consistía en seis compañías, HHC, Alpha, Bravo, Charlie, Delta y Echo.\n\nEn la mañana del miércoles 4 de noviembre, justo después de las elecciones, el Departamento de Defensa, el Batallón 305 y la NSA comenzaron a registrar pruebas de fraude en tiempo real del cambio de voto de los seis estados del campo de batalla (Georgia, Pensilvania, Michigan , Wisconsin, Arizona, Nevada) en un libro de tecnología de cadena de bloques, que era imposible de piratear y de borrar. Esta evidencia digital en tiempo real se usaría ahora para procesar a todos los del Estado Profundo involucrados en el fraude electoral y de votantes, incluyendo a Obama, Biden y Haspel.\n\nPágina 9 de las demandas federales de Sydney Powell, presentadas en Georgia y Michigan, a medianoche del miércoles 25 de noviembre de 2020: «El software Dominion fue accedido por agentes que actuaban en nombre de China e Irán con el fin de supervisar y manipular las elecciones, incluidas las últimas elecciones generales de EE.UU. en 2020».\n\nEl martes, 1 de noviembre, el teniente general McInerney tuiteó: «Es una TRAICIÓN. Están tratando de derrocar este gobierno».",
         "Perma | Obama, Biden y la directora de la CIA, Gina Haspel, arrestados por espionaje y fraude electoral, según fuentes alternativas | TierraPura.org"
        ],
        [
         "1246",
         "571",
         "0",
         "Covid-19",
         "Redacción Médica",
         "Covid: las vacunas puestas en España no alcanzan el 30% de las recibidas ",
         "El Ministerio de Sanidad ha actualizado los datos sobre evolución de la vacunación contra el Covid. El informe, publicado este jueves, sitúa por encima de las 200.000 el número de dosis administradas hasta el momento distribuídas entre las comunidades autónomas. Esta cifra deja a España por debajo del 30 por ciento en cuanto a vacunación respecto a las dosis distribuidas. El número de dosis de vacuna contra el Covid entregadas a las autonomías asciende a 743.925. De ellas, sin embargo, únicamente se han administrado 207.323, que suponen un 27,9 por ciento del total.  Andalucía, con 53.934, es la región que más vacuna en términos totales, mientras que Asturias tiene el mejor balance porcentual de vacunas recibidas-administradas (60,7%).\n\nEn lo que a las dosis entregadas, solo dos comunidades superan la cifra redonda de 100.000 vacunas: Andalucía y Cataluña. La primera de ellas ha puesto 53.934 de las  140.295 recibidas, que se traducen en un 38,4 por ciento del total. En el caso de Cataluña, ha recibido 120.545 y ha administrado poco más de un 20 por ciento (24.515).\n\nTal y como muestran los datos del Ministerio de Sanidad, solo 5 regiones han registrado vacunas este mismo jueves: Cantabria, Comunidad Valenciana, Galicia, Madrid y Murcia. En el lado contrario se encuentran las dos, Baleares y Extremadura, que junto a las ciudades de Ceuta y Melilla tienen una ltima vacuna registrada datada a 5 de enero.",
         "https://www.redaccionmedica.com/secciones/sanidad-hoy/covid-vacunas-puestas-espana-alcanzan-30-recibidas-9819"
        ],
        [
         "1247",
         "572",
         "1",
         "Covid-19",
         "El Sol de la Laguna",
         "En 2014 una revista ya alertaba sobre el coronavirus ",
         "Fue en el mes de febrero de 2014 cuando la revista Muy Interesante, dedicada a la divulgación de ciencia, historia, tecnología, salud, psicología, innovación y curiosidades, alertaba sobre el nuevo coronavirus, COVID-19, que actualmente se encuentra propagándose por el mundo; ‘LA PANDEMIA QUE VIENE, Los brotes de las nuevas enfermedades que podrían poner en peligro al mundo, ¿Estamos preparados?, es lo que se lee en la portada de la edición.\n\nCon el título ‘Los murciélagos son reservorios de virus que causan enfermedades en humanos´ la revista anunciaba sobre el coronavirus, incluso el Noticia relata que el 13 de junio de 2012 un hombre de negocios oriundo de Arabia Saudita fue admitido en un hospital privado, pues llevaba una semana con fiebre y dificultades para respirar. Once días después murió por fallo pulmonar y renal; en aquella fecha se contabilizaron 126 personas infectadas, de las cuales 53 fallecieron.\n\nDe acuerdo con Muy Interesante, ese fue el primer caso de lo que hoy se conoce como MERS-CoV, Síndrome Respiratorio por Coronavirus de Oriente Medio, además explican que los Coronavirus (CoV) son comunes en todo el mundo y a la mayoría de las personas lo contraen en algún momento, aunque solo unos cuantos llegan a causar enfermedades respiratorias menores, otros provocan hepáticas y neurológicas. Lo más asombroso de esta publicación es que especificaron todo el daño que causan los murciélagos a los humanos y nadie notó la dimensión de lo que podía causar, “El causante del MERS-CoV; provoca síntomas de fiebre, tos y dificultad para respirar, y casi la mitad de los pacientes muere; un dato clave es que éste es muy similar a los que podemos encontrar en murciélagos”.\n\nDetallan que estos quirópteros son reservorios de virus capaces de provocar enfermedades humanas, como la rabia, Hendra, el síndrome respiratorio agudo severo, incluso, variedades de virus Ébola; la transmisión de estos animales a personas puede ser contacto directo con las especies infectadas o sus excrementos.\n\nAdemás el Noticia menciona que tras los casos registrados en Arabia Saudita se realizó una investigación a los alrededores de donde era originario el primer hombre que murió, los resultados arrojaron que fueron encontrados murciélagos en un huerto cerca de su casa, las palmeras datileras les serian como refugio, además en el patio trasero de donde trabajaba fueron vistos varios animales. Por dicha razón fueron capturados en aquel lugar 96 murciélagos que pertenecían a siete especies, se tomaron muestras y se encontró que aunque existía un gran variedad de CoV entre los ejemplares, aunque solo uno dio positivo al MERS-CoV, por lo que no se le atribuyó la responsabilidad de la transmisión.\n\nLa revista en su edición de febrero de 2014 recalcó que es mejor prevenir antes que lamentar, pues las enfermedades infecciosas que en la actualidad afectan al mundo están directamente relacionadas con el comportamiento humano moderno; son el reflejo de lo que somos, lo que hacemos, cómo vivimos, cómo interactuamos con otras personas, animales y el ambiente.  Y recalca que se debe fomentar una cultura de prevención y tomar conciencia de nuestros hábitos, sobre todo vigilar los de aquellos que tienen contacto con animales, “pensemos de nuevo en los giros históricos que han ocasionado las pandemias”.\n\nEn 2009 México sufrió el embate de la gripe porcina, actualmente en el país nos encontramos en la Fase dos de la Pandemia del Coronavirus; no se debe bajar la guardia, #QuédateEnTuCasa.",
         "https://www.Noticiadelsoldelalaguna.com.mx/doble-via/salud/en-2014-una-revista-ya-alertaba-sobre-el-coronavirus-5016052.html"
        ]
       ],
       "shape": {
        "columns": 7,
        "rows": 5
       }
      },
      "text/html": [
       "<div>\n",
       "<style scoped>\n",
       "    .dataframe tbody tr th:only-of-type {\n",
       "        vertical-align: middle;\n",
       "    }\n",
       "\n",
       "    .dataframe tbody tr th {\n",
       "        vertical-align: top;\n",
       "    }\n",
       "\n",
       "    .dataframe thead th {\n",
       "        text-align: right;\n",
       "    }\n",
       "</style>\n",
       "<table border=\"1\" class=\"dataframe\">\n",
       "  <thead>\n",
       "    <tr style=\"text-align: right;\">\n",
       "      <th></th>\n",
       "      <th>Id</th>\n",
       "      <th>Category</th>\n",
       "      <th>Topic</th>\n",
       "      <th>Source</th>\n",
       "      <th>Headline</th>\n",
       "      <th>Text</th>\n",
       "      <th>Link</th>\n",
       "    </tr>\n",
       "  </thead>\n",
       "  <tbody>\n",
       "    <tr>\n",
       "      <th>1243</th>\n",
       "      <td>568</td>\n",
       "      <td>0</td>\n",
       "      <td>Covid-19</td>\n",
       "      <td>El Financiero</td>\n",
       "      <td>Encuentran nueva variante de COVID en México: ...</td>\n",
       "      <td>El Instituto de Diagnóstico y Referencia Epide...</td>\n",
       "      <td>https://www.elfinanciero.com.mx/salud/encuentr...</td>\n",
       "    </tr>\n",
       "    <tr>\n",
       "      <th>1244</th>\n",
       "      <td>569</td>\n",
       "      <td>1</td>\n",
       "      <td>Sociedad</td>\n",
       "      <td>diariogol</td>\n",
       "      <td>El móvil de más de 60.000 euros de la princesa...</td>\n",
       "      <td>La hija del rey Felipe y de la reina Letizia y...</td>\n",
       "      <td>https://www.diariogol.com/gossip/el-movil-de-m...</td>\n",
       "    </tr>\n",
       "    <tr>\n",
       "      <th>1245</th>\n",
       "      <td>570</td>\n",
       "      <td>1</td>\n",
       "      <td>Política</td>\n",
       "      <td>AFPFactual</td>\n",
       "      <td>NaN</td>\n",
       "      <td>Evidentemente, Barak Obama ha sido arrestado e...</td>\n",
       "      <td>Perma | Obama, Biden y la directora de la CIA,...</td>\n",
       "    </tr>\n",
       "    <tr>\n",
       "      <th>1246</th>\n",
       "      <td>571</td>\n",
       "      <td>0</td>\n",
       "      <td>Covid-19</td>\n",
       "      <td>Redacción Médica</td>\n",
       "      <td>Covid: las vacunas puestas en España no alcanz...</td>\n",
       "      <td>El Ministerio de Sanidad ha actualizado los da...</td>\n",
       "      <td>https://www.redaccionmedica.com/secciones/sani...</td>\n",
       "    </tr>\n",
       "    <tr>\n",
       "      <th>1247</th>\n",
       "      <td>572</td>\n",
       "      <td>1</td>\n",
       "      <td>Covid-19</td>\n",
       "      <td>El Sol de la Laguna</td>\n",
       "      <td>En 2014 una revista ya alertaba sobre el coron...</td>\n",
       "      <td>Fue en el mes de febrero de 2014 cuando la rev...</td>\n",
       "      <td>https://www.Noticiadelsoldelalaguna.com.mx/dob...</td>\n",
       "    </tr>\n",
       "  </tbody>\n",
       "</table>\n",
       "</div>"
      ],
      "text/plain": [
       "       Id  Category     Topic               Source  \\\n",
       "1243  568         0  Covid-19        El Financiero   \n",
       "1244  569         1  Sociedad            diariogol   \n",
       "1245  570         1  Política           AFPFactual   \n",
       "1246  571         0  Covid-19     Redacción Médica   \n",
       "1247  572         1  Covid-19  El Sol de la Laguna   \n",
       "\n",
       "                                               Headline  \\\n",
       "1243  Encuentran nueva variante de COVID en México: ...   \n",
       "1244  El móvil de más de 60.000 euros de la princesa...   \n",
       "1245                                                NaN   \n",
       "1246  Covid: las vacunas puestas en España no alcanz...   \n",
       "1247  En 2014 una revista ya alertaba sobre el coron...   \n",
       "\n",
       "                                                   Text  \\\n",
       "1243  El Instituto de Diagnóstico y Referencia Epide...   \n",
       "1244  La hija del rey Felipe y de la reina Letizia y...   \n",
       "1245  Evidentemente, Barak Obama ha sido arrestado e...   \n",
       "1246  El Ministerio de Sanidad ha actualizado los da...   \n",
       "1247  Fue en el mes de febrero de 2014 cuando la rev...   \n",
       "\n",
       "                                                   Link  \n",
       "1243  https://www.elfinanciero.com.mx/salud/encuentr...  \n",
       "1244  https://www.diariogol.com/gossip/el-movil-de-m...  \n",
       "1245  Perma | Obama, Biden y la directora de la CIA,...  \n",
       "1246  https://www.redaccionmedica.com/secciones/sani...  \n",
       "1247  https://www.Noticiadelsoldelalaguna.com.mx/dob...  "
      ]
     },
     "metadata": {},
     "output_type": "display_data"
    }
   ],
   "source": [
    "# Merge two Spanish fake news datasets into one dataframe\n",
    "\n",
    "spanish_fake_news_1 = pd.read_csv('data/spanish_fake_news_1.csv')\n",
    "spanish_fake_news_2 = pd.read_csv('data/spanish_fake_news_2.csv')\n",
    "\n",
    "# Change all of the values in CATEGORY of fake_news_2 from 'FALSE' to 'Fake' and 'TRUE' to 'True'\n",
    "spanish_fake_news_2['CATEGORY'] = spanish_fake_news_2['CATEGORY'].replace({False: 'Fake', True: 'True'})\n",
    "\n",
    "#Rename the columns of fake_news_2 to match those of fake_news_1\n",
    "spanish_fake_news_2.rename(columns={'CATEGORY': 'Category', 'TITLE': 'Title', 'TEXT': 'Text', \"ID\" : \"Id\", \"HEADLINE\": \"Headline\", \"LINK\": \"Link\", \"SOURCE\": \"Source\", \"TOPICS\" : \"Topic\"}, inplace=True)\n",
    "\n",
    "# Concatenate the two dataframes into one\n",
    "spanish_fake_news = pd.concat([spanish_fake_news_1, spanish_fake_news_2], ignore_index=True)\n",
    "#display(spanish_fake_news.tail())\n",
    "\n",
    "# Map FAKE->1 and TRUE->0\n",
    "spanish_fake_news['Category'] = spanish_fake_news['Category'].replace({'Fake': 1, 'True': 0})\n",
    "\n",
    "# View first and last 5 rows\n",
    "display(spanish_fake_news.head())\n",
    "display(spanish_fake_news.tail())"
   ]
  },
  {
   "cell_type": "code",
   "execution_count": null,
   "id": "699b8384",
   "metadata": {},
   "outputs": [],
   "source": []
  }
 ],
 "metadata": {
  "kernelspec": {
   "display_name": "CSB320",
   "language": "python",
   "name": "python3"
  },
  "language_info": {
   "codemirror_mode": {
    "name": "ipython",
    "version": 3
   },
   "file_extension": ".py",
   "mimetype": "text/x-python",
   "name": "python",
   "nbconvert_exporter": "python",
   "pygments_lexer": "ipython3",
   "version": "3.9.22"
  }
 },
 "nbformat": 4,
 "nbformat_minor": 5
}
